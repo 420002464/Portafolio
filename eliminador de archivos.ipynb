{
 "cells": [
  {
   "cell_type": "markdown",
   "metadata": {},
   "source": [
    "# Eliminador de archivos\n",
    "Supongamos que tenemos una carpeta con muchos archivos basura y queremos hacer limpieza de todos los archivos salvo algunos que nos interesan.\n",
    "\n",
    "Para los archivos que nos interesan usaremos un archivo `.txt` que contenga el nombre de éstos. El archivo se llama `Archivos para conservar.txt` y se encuentra en la carpeta [`./otros`](.\\otros)."
   ]
  },
  {
   "cell_type": "markdown",
   "metadata": {},
   "source": [
    "Primero importaremos la biblioteca `os`, la cual nos permitirá implementar la tarea."
   ]
  },
  {
   "cell_type": "code",
   "execution_count": 1,
   "metadata": {},
   "outputs": [],
   "source": [
    "import os"
   ]
  },
  {
   "cell_type": "markdown",
   "metadata": {},
   "source": [
    "Definiremos la lista `Archivos_para_salvar`, en la cual pondremos los nombres de los archivos que queremos salvar."
   ]
  },
  {
   "cell_type": "code",
   "execution_count": 2,
   "metadata": {},
   "outputs": [],
   "source": [
    "# Abre el archivo en modo lectura\n",
    "Archivos_para_salvar = []\n",
    "with open(\"./otros/Archivos para conservar.txt\", \"r\", encoding=\"utf-8\") as archivo: #Ponemos la ruta del archivo en open\n",
    "    # Lee cada línea del archivo con el for\n",
    "    for linea in archivo:\n",
    "        #print(linea.strip())  # Imprime cada línea sin saltos de línea por medio del método strip\n",
    "        Archivos_para_salvar.append(linea.strip()) #agregamos los nombres de los archivos sin salto de línea en la lista.\n"
   ]
  },
  {
   "cell_type": "markdown",
   "metadata": {},
   "source": [
    "Vemos los elementos en la lista recién definida."
   ]
  },
  {
   "cell_type": "code",
   "execution_count": 3,
   "metadata": {},
   "outputs": [
    {
     "name": "stdout",
     "output_type": "stream",
     "text": [
      "logaritmos.txt\n",
      "documentacion.pdf\n",
      "wine.csv\n",
      "Graficas.py\n"
     ]
    }
   ],
   "source": [
    "print(*Archivos_para_salvar, sep='\\n')"
   ]
  },
  {
   "cell_type": "markdown",
   "metadata": {},
   "source": [
    "Una vez que ya tenemos los nombres de los archivos a salvar en Python, procederemos a realizar la eliminación de los archivos que no queremos.\n",
    "\n",
    "Primero estableceremos la ruta del directorio en el que queremos hacer la limpieza."
   ]
  },
  {
   "cell_type": "code",
   "execution_count": 4,
   "metadata": {},
   "outputs": [
    {
     "name": "stdout",
     "output_type": "stream",
     "text": [
      "C:\\Users\\luish\\Documents\\archivos con basura\n"
     ]
    }
   ],
   "source": [
    "rutaDirectorio = r\"C:\\Users\\luish\\Documents\\archivos con basura\" #ruta del directorio al que queremos purgar\n",
    "print(rutaDirectorio)"
   ]
  },
  {
   "cell_type": "markdown",
   "metadata": {},
   "source": [
    "Veamos los archivos existentes en la carpeta (directorio)."
   ]
  },
  {
   "cell_type": "code",
   "execution_count": 5,
   "metadata": {},
   "outputs": [
    {
     "name": "stdout",
     "output_type": "stream",
     "text": [
      "1.eps\n",
      "1.jpg\n",
      "Captura de pantalla 2024-12-04 234051.png\n",
      "Captura de pantalla 2024-12-04 234730.png\n",
      "Captura de pantalla 2024-12-04 234902.png\n",
      "Captura de pantalla 2024-12-04 234906.png\n",
      "Captura de pantalla 2024-12-04 234910.png\n",
      "Captura de pantalla 2024-12-04 234914.png\n",
      "Captura de pantalla 2024-12-04 234917.png\n",
      "Captura de pantalla 2024-12-13 003357.png\n",
      "Captura de pantalla 2024-12-13 003432.png\n",
      "Captura de pantalla 2024-12-13 003500.png\n",
      "documentacion.pdf\n",
      "Escáner_20241129.pdf\n",
      "ff.pdf\n",
      "ff.png\n",
      "ff.svg\n",
      "Graficación.py\n",
      "Graficas.py\n",
      "logaritmos.txt\n",
      "racionales.py\n",
      "SCN_20241130_205248.pdf\n",
      "script.txt\n",
      "titulacion.nb\n",
      "wine.csv\n"
     ]
    }
   ],
   "source": [
    "Archivos = os.listdir(rutaDirectorio)\n",
    "print(*Archivos, sep='\\n')"
   ]
  },
  {
   "cell_type": "markdown",
   "metadata": {},
   "source": [
    "Para realizar la eliminación primero cambiaremos de directorio."
   ]
  },
  {
   "cell_type": "code",
   "execution_count": 6,
   "metadata": {},
   "outputs": [
    {
     "name": "stdout",
     "output_type": "stream",
     "text": [
      "La ruta en la que nos encontramos en un principio es c:\\Users\\luish\\Documents\\Portafolio\n",
      "La ruta del directorio al cual nos movimos es C:\\Users\\luish\\Documents\\archivos con basura\n"
     ]
    }
   ],
   "source": [
    "print(f\"La ruta en la que nos encontramos en un principio es {os.getcwd()}\") #Vemos el directorio actual\n",
    "os.chdir(rutaDirectorio)\n",
    "print(f\"La ruta del directorio al cual nos movimos es {os.getcwd()}\")"
   ]
  },
  {
   "cell_type": "markdown",
   "metadata": {},
   "source": [
    "Una vez que estamos en la carpeta deseada procederemos a realizar la depuración."
   ]
  },
  {
   "cell_type": "code",
   "execution_count": 7,
   "metadata": {},
   "outputs": [],
   "source": [
    "for i in Archivos:\n",
    "    ruta = r\"C:\\Users\\luish\\Documents\\archivos con basura\"\n",
    "    if i not in Archivos_para_salvar:\n",
    "        ruta += '\\\\'+i\n",
    "        os.remove(ruta) #Esta instrucción es la que elimina los archivos de manera individual.\n",
    "    "
   ]
  },
  {
   "cell_type": "markdown",
   "metadata": {},
   "source": [
    "Veamos los archivos que quedan después de la purga."
   ]
  },
  {
   "cell_type": "code",
   "execution_count": 8,
   "metadata": {},
   "outputs": [
    {
     "name": "stdout",
     "output_type": "stream",
     "text": [
      "documentacion.pdf\n",
      "Graficas.py\n",
      "logaritmos.txt\n",
      "wine.csv\n"
     ]
    }
   ],
   "source": [
    "Archivos = os.listdir(rutaDirectorio)\n",
    "print(*Archivos, sep='\\n')"
   ]
  },
  {
   "cell_type": "markdown",
   "metadata": {},
   "source": [
    "Los archivos que se querían conservar no se tocaron y se eliminaron los demás. El programa concluyó con éxito."
   ]
  }
 ],
 "metadata": {
  "kernelspec": {
   "display_name": "Python 3",
   "language": "python",
   "name": "python3"
  },
  "language_info": {
   "codemirror_mode": {
    "name": "ipython",
    "version": 3
   },
   "file_extension": ".py",
   "mimetype": "text/x-python",
   "name": "python",
   "nbconvert_exporter": "python",
   "pygments_lexer": "ipython3",
   "version": "3.12.5"
  }
 },
 "nbformat": 4,
 "nbformat_minor": 2
}
