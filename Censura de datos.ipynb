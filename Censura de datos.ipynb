{
 "cells": [
  {
   "cell_type": "markdown",
   "metadata": {},
   "source": [
    "## Censura de datos\n",
    "Dado un campo `id` y su `nombre`, queremos realizar una censura del nombre salvo la primera letra.\n",
    "\n",
    "Ejemplo si tenemos: 8756126544 Juan García Morales\n",
    "\n",
    "da como resultado:  8756126544 J*** ****** *******"
   ]
  },
  {
   "cell_type": "markdown",
   "metadata": {},
   "source": [
    "Primero definiremos la función `Censura`, donde la primera letra se mantiene y para las demás letras se usa el método `join` para sustituir por `*`."
   ]
  },
  {
   "cell_type": "code",
   "execution_count": 56,
   "metadata": {},
   "outputs": [],
   "source": [
    "def Censura(texto):\n",
    "    return texto[0]+''.join(['*' if i != ' ' else ' ' for i in texto[1:]])#Se usa el slicing para afectar a partir del segundo elemento del nombre"
   ]
  },
  {
   "cell_type": "markdown",
   "metadata": {},
   "source": [
    "En la variable `Datos` ponemos ejemplo de un diccionario con los datos a los que le podemos aplicar la función."
   ]
  },
  {
   "cell_type": "code",
   "execution_count": 57,
   "metadata": {},
   "outputs": [
    {
     "name": "stdout",
     "output_type": "stream",
     "text": [
      "{123456789: 'Juan Pérez García', 980987654: 'Andrés Navarro Vega', 179987654: 'Laura Córdova Valenzuela'}\n"
     ]
    }
   ],
   "source": [
    "Datos = {123456789:\"Juan Pérez García\", 980987654:'Andrés Navarro Vega', 179987654:'Laura Córdova Valenzuela'}\n",
    "print(Datos)"
   ]
  },
  {
   "cell_type": "markdown",
   "metadata": {},
   "source": [
    "Se implementaran 2 métodos para construir un diccionario con la función `Censura`."
   ]
  },
  {
   "cell_type": "code",
   "execution_count": 58,
   "metadata": {},
   "outputs": [
    {
     "data": {
      "text/plain": [
       "{123456789: 'J*** ***** ******',\n",
       " 980987654: 'A***** ******* ****',\n",
       " 179987654: 'L**** ******* **********'}"
      ]
     },
     "execution_count": 58,
     "metadata": {},
     "output_type": "execute_result"
    }
   ],
   "source": [
    "{i : Censura(Datos[i]) for i in Datos}"
   ]
  },
  {
   "cell_type": "code",
   "execution_count": 59,
   "metadata": {},
   "outputs": [
    {
     "data": {
      "text/plain": [
       "{123456789: 'J*** ***** ******',\n",
       " 980987654: 'A***** ******* ****',\n",
       " 179987654: 'L**** ******* **********'}"
      ]
     },
     "execution_count": 59,
     "metadata": {},
     "output_type": "execute_result"
    }
   ],
   "source": [
    "{k:Censura(v) for k, v in Datos.items()}"
   ]
  },
  {
   "cell_type": "markdown",
   "metadata": {},
   "source": [
    "A uno de esos diccionarios podemos asignarlo a la variable `Datos`, con lo que ya no existiría la información original y sólo habría la versión censurada."
   ]
  }
 ],
 "metadata": {
  "kernelspec": {
   "display_name": "Python 3",
   "language": "python",
   "name": "python3"
  },
  "language_info": {
   "codemirror_mode": {
    "name": "ipython",
    "version": 3
   },
   "file_extension": ".py",
   "mimetype": "text/x-python",
   "name": "python",
   "nbconvert_exporter": "python",
   "pygments_lexer": "ipython3",
   "version": "3.12.5"
  }
 },
 "nbformat": 4,
 "nbformat_minor": 2
}
