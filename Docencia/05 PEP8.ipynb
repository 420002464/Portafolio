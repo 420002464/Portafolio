{
  "nbformat": 4,
  "nbformat_minor": 0,
  "metadata": {
    "colab": {
      "provenance": []
    },
    "kernelspec": {
      "name": "python3",
      "display_name": "Python 3"
    },
    "language_info": {
      "name": "python"
    }
  },
  "cells": [
    {
      "cell_type": "markdown",
      "source": [
        "#PEP8\n",
        "Luis Manuel Hernández Aguirre\n",
        "\n",
        "Se proporcionarán las recomendaciones de esta guía de estilo para una mejor legibilidad de su código. El material se obtuvo de [este link](https://peps.python.org/pep-0008/). Se tradujo y se ampliaron los ejemplos para una mejor explicación.\n",
        "\n",
        "\n",
        "### Sabemos escribir código, pero ¿Sabemos escribir correctamente?\n",
        "Así como hay reglas para escribir correctamente, las recomendaciones de la guía sirve para una lectura más sencilla de código, pues si bien se pueden omitir estas recomendaciones, la rapidez de comprensión es menor sin estos, ya que ayuda a lidiar con la saturación de código."
      ],
      "metadata": {
        "id": "gRA0Jhsz5WL4"
      }
    },
    {
      "cell_type": "code",
      "source": [
        "#Bien\n",
        "import math\n",
        "import sys"
      ],
      "metadata": {
        "id": "MsM_muNcVboO"
      },
      "execution_count": null,
      "outputs": []
    },
    {
      "cell_type": "code",
      "source": [
        "#Mal\n",
        "import math, sys"
      ],
      "metadata": {
        "id": "hcCbwM09Vjlr"
      },
      "execution_count": null,
      "outputs": []
    },
    {
      "cell_type": "markdown",
      "source": [
        "Pero podemos decir esto"
      ],
      "metadata": {
        "id": "vNg8QkynVnL0"
      }
    },
    {
      "cell_type": "code",
      "source": [
        "from numpy import array, copy"
      ],
      "metadata": {
        "id": "TLIVDJqZVqHg"
      },
      "execution_count": null,
      "outputs": []
    },
    {
      "cell_type": "markdown",
      "source": [
        "## Espacios en blanco en expresiones y declaraciones"
      ],
      "metadata": {
        "id": "o18pYfcw1LQz"
      }
    },
    {
      "cell_type": "markdown",
      "source": [
        "En la asignación de variables sólo debe de ir un espacio alrededor del operador asignación (o algún otro). Es decir, un espacio por ambos lados del operador."
      ],
      "metadata": {
        "id": "lVHRPUDFaZP1"
      }
    },
    {
      "cell_type": "code",
      "source": [
        "#Correcto\n",
        "x = 1\n",
        "y = np.pi\n",
        "variable_larga = np.pi*np.ex/np.euler_gamma"
      ],
      "metadata": {
        "id": "EFr9b2btaZa9"
      },
      "execution_count": null,
      "outputs": []
    },
    {
      "cell_type": "code",
      "source": [
        "#Incorrecto\n",
        "x              = 1\n",
        "y              = np.pi\n",
        "variable_larga = np.pi*np.ex/np.euler_gamma #Se ve mejor arriba"
      ],
      "metadata": {
        "id": "PLv9ppyCbrFb"
      },
      "execution_count": null,
      "outputs": []
    },
    {
      "cell_type": "markdown",
      "source": [
        "No debe haber espacios en blanco antes de abrir paréntesis para los argumentos de una función."
      ],
      "metadata": {
        "id": "dgmHU8INZGDH"
      }
    },
    {
      "cell_type": "code",
      "source": [
        "#Bien\n",
        "int(4.599)"
      ],
      "metadata": {
        "id": "rohChYHtZGO-"
      },
      "execution_count": null,
      "outputs": []
    },
    {
      "cell_type": "code",
      "source": [
        "#Mal\n",
        "int (4.599)#Funciona, pero no es muy estético"
      ],
      "metadata": {
        "id": "R1IZkXKFZMPZ"
      },
      "execution_count": null,
      "outputs": []
    },
    {
      "cell_type": "markdown",
      "source": [
        "* Dentro de paréntesis, corchetes y llaves\n",
        "\n"
      ],
      "metadata": {
        "id": "2hOBDAl318eu"
      }
    },
    {
      "cell_type": "code",
      "source": [
        "#Bien\n",
        "np.random.beta(1, 4)\n",
        "np.random.beta(1, 1, 2)"
      ],
      "metadata": {
        "id": "K0BZ4Vuq1LcY"
      },
      "execution_count": null,
      "outputs": []
    },
    {
      "cell_type": "code",
      "source": [
        "#Mal\n",
        "np.random.beta( 1, 1 )"
      ],
      "metadata": {
        "id": "DNoE4Lu01uot"
      },
      "execution_count": null,
      "outputs": []
    },
    {
      "cell_type": "code",
      "source": [
        "L[1]\n",
        "L[1, 2]"
      ],
      "metadata": {
        "id": "KmT6gZyv2Qz_"
      },
      "execution_count": null,
      "outputs": []
    },
    {
      "cell_type": "code",
      "source": [
        "#Bien\n",
        "{'Marca': 'Ford', 'Modelo': 'Mustang'}\n",
        "#Mal\n",
        "{'Marca':'Ford', 'Modelo':'Mustang'}"
      ],
      "metadata": {
        "id": "0izwxLKX2Urq"
      },
      "execution_count": null,
      "outputs": []
    },
    {
      "cell_type": "code",
      "source": [
        "#Bien\n",
        "spam(ham[1], {eggs: 2})\n",
        "#Mal\n",
        "spam( ham[ 1 ], { eggs: 2 } )"
      ],
      "metadata": {
        "id": "gJgzqZtf32b8"
      },
      "execution_count": null,
      "outputs": []
    },
    {
      "cell_type": "markdown",
      "source": [
        "* Entre la última coma y un paréntesis adyacente"
      ],
      "metadata": {
        "id": "-bSM-jkO4BPP"
      }
    },
    {
      "cell_type": "code",
      "source": [
        "#Bien\n",
        "fun(5,) #En este caso no se deja espacio\n",
        "#Mal\n",
        "fun(5, )"
      ],
      "metadata": {
        "id": "6aA-uXnD4KGo"
      },
      "execution_count": null,
      "outputs": []
    },
    {
      "cell_type": "markdown",
      "source": [
        "Espacio en operadores con diferente prioridad como `**`, `*` y `+`. En este caso se recomienda espacios alrededor de operadores con menor jerarquía. Esta forma de escribirlo ayuda a comprender cuáles operaciones son primero y cuáles después.\n",
        "\n",
        "\n",
        "\n"
      ],
      "metadata": {
        "id": "ixe7F9Hqja3r"
      }
    },
    {
      "cell_type": "code",
      "source": [
        "#Bien\n",
        "i = i + 1\n",
        "submitted += 1 #En este caso += sería el operador\n",
        "x = x*2 - 1\n",
        "hyp = x*x + y*y\n",
        "c = (a+b) * (a-b) #Primero van los paréntesis y luego el producto"
      ],
      "metadata": {
        "id": "FhUblpYNjbAd"
      },
      "execution_count": null,
      "outputs": []
    },
    {
      "cell_type": "code",
      "source": [
        "#Mal\n",
        "i=i+1\n",
        "submitted +=1\n",
        "x = x * 2 - 1\n",
        "hyp = x * x + y * y #Una lectura rápida pudiera sugerir que el producto y la suma son de la misma jerarquía.\n",
        "c = (a + b) * (a - b)"
      ],
      "metadata": {
        "id": "LNO58PrWkMJQ"
      },
      "execution_count": null,
      "outputs": []
    },
    {
      "cell_type": "markdown",
      "source": [
        "No se pone espacio en el operador asignación de una función cuando se indica un valor predeterminado."
      ],
      "metadata": {
        "id": "Ry6Dso4slEPf"
      }
    },
    {
      "cell_type": "code",
      "source": [
        "#Bien\n",
        "def f(a, b=5):\n",
        "  return a + b\n",
        "\n",
        "def f2(d, cte=np.pi):\n",
        "  print(d + cte)"
      ],
      "metadata": {
        "id": "JjDnhL61lN1y"
      },
      "execution_count": null,
      "outputs": []
    },
    {
      "cell_type": "code",
      "source": [
        "#Mal\n",
        "def f(a, b = 5):\n",
        "  return a + b"
      ],
      "metadata": {
        "id": "m48i3kWdl99X"
      },
      "execution_count": null,
      "outputs": []
    },
    {
      "cell_type": "markdown",
      "source": [
        "Ordenamiento de espacio cuando hay diversos valores o parámetros"
      ],
      "metadata": {
        "id": "IgLSGpKnmODH"
      }
    },
    {
      "cell_type": "code",
      "source": [
        "L = [\n",
        "    1, 2, 3,\n",
        "    4, 5, 6,\n",
        "    ]\n",
        "\n",
        "prueba = f_con_args(\n",
        "    'asf', 5, 'strr',\n",
        "    'd', 'e', 'f'\n",
        "    )"
      ],
      "metadata": {
        "id": "tisjOsEPmOLB"
      },
      "execution_count": null,
      "outputs": []
    },
    {
      "cell_type": "markdown",
      "source": [
        "Lo mismo para diccionarios"
      ],
      "metadata": {
        "id": "4wOaeJRSmddL"
      }
    },
    {
      "cell_type": "code",
      "source": [
        "dicc = {\n",
        "    1: 'hola',\n",
        "    2: 'adios'\n",
        "    }"
      ],
      "metadata": {
        "id": "VS22woBYme6M"
      },
      "execution_count": null,
      "outputs": []
    },
    {
      "cell_type": "markdown",
      "source": [
        "## 4 carácteres de identación y 80 carácteres por línea (`\\`)"
      ],
      "metadata": {
        "id": "_8v-fc7wnDkN"
      }
    },
    {
      "cell_type": "code",
      "source": [
        "#Probaremos diferentes niveles de identación\n",
        "for i in range(4):\n",
        "    print(i)"
      ],
      "metadata": {
        "colab": {
          "base_uri": "https://localhost:8080/"
        },
        "id": "EKIb_n-Z4yxF",
        "outputId": "be6fe92b-5833-40d1-8a72-aae02bfffd08"
      },
      "execution_count": null,
      "outputs": [
        {
          "output_type": "stream",
          "name": "stdout",
          "text": [
            "0\n",
            "1\n",
            "2\n",
            "3\n"
          ]
        }
      ]
    },
    {
      "cell_type": "code",
      "source": [
        "print(5 + 2 \\\n",
        "      + 0.1)"
      ],
      "metadata": {
        "colab": {
          "base_uri": "https://localhost:8080/"
        },
        "id": "EEGVu5f-n3dd",
        "outputId": "e90f93ac-0e25-4c4b-9154-cd2206317950"
      },
      "execution_count": null,
      "outputs": [
        {
          "output_type": "stream",
          "name": "stdout",
          "text": [
            "7.1\n"
          ]
        }
      ]
    }
  ]
}