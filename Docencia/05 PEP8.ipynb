{
  "cells": [
    {
      "cell_type": "markdown",
      "metadata": {
        "id": "gRA0Jhsz5WL4"
      },
      "source": [
        "# PEP8\n",
        "\n",
        "Se proporcionarán las recomendaciones de esta guía de estilo para una mejor legibilidad de su código. El material se obtuvo de [este link](https://peps.python.org/pep-0008/). Se tradujo y se ampliaron los ejemplos para una mejor explicación.\n",
        "\n",
        "\n",
        "### Sabemos escribir código, pero ¿Sabemos escribir correctamente?\n",
        "Así como hay reglas para escribir correctamente, las recomendaciones de la guía sirve para una lectura más sencilla de código, pues si bien se pueden omitir estas recomendaciones, la rapidez de comprensión es menor sin estos, ya que ayuda a lidiar con la saturación de código."
      ]
    },
    {
      "cell_type": "code",
      "execution_count": null,
      "metadata": {
        "id": "MsM_muNcVboO"
      },
      "outputs": [],
      "source": [
        "#Bien\n",
        "import math\n",
        "import sys"
      ]
    },
    {
      "cell_type": "code",
      "execution_count": null,
      "metadata": {
        "id": "hcCbwM09Vjlr"
      },
      "outputs": [],
      "source": [
        "#Mal\n",
        "import math, sys"
      ]
    },
    {
      "cell_type": "markdown",
      "metadata": {
        "id": "vNg8QkynVnL0"
      },
      "source": [
        "Pero podemos decir esto"
      ]
    },
    {
      "cell_type": "code",
      "execution_count": null,
      "metadata": {
        "id": "TLIVDJqZVqHg"
      },
      "outputs": [],
      "source": [
        "from numpy import array, copy"
      ]
    },
    {
      "cell_type": "markdown",
      "metadata": {
        "id": "o18pYfcw1LQz"
      },
      "source": [
        "## Espacios en blanco en expresiones y declaraciones"
      ]
    },
    {
      "cell_type": "markdown",
      "metadata": {
        "id": "lVHRPUDFaZP1"
      },
      "source": [
        "En la asignación de variables sólo debe de ir un espacio alrededor del operador asignación (o algún otro). Es decir, un espacio por ambos lados del operador."
      ]
    },
    {
      "cell_type": "code",
      "execution_count": null,
      "metadata": {
        "id": "EFr9b2btaZa9"
      },
      "outputs": [],
      "source": [
        "#Correcto\n",
        "x = 1\n",
        "y = np.pi\n",
        "variable_larga = np.pi*np.ex/np.euler_gamma"
      ]
    },
    {
      "cell_type": "code",
      "execution_count": null,
      "metadata": {
        "id": "PLv9ppyCbrFb"
      },
      "outputs": [],
      "source": [
        "#Incorrecto\n",
        "x              = 1\n",
        "y              = np.pi\n",
        "variable_larga = np.pi*np.ex/np.euler_gamma #Se ve mejor arriba"
      ]
    },
    {
      "cell_type": "markdown",
      "metadata": {
        "id": "dgmHU8INZGDH"
      },
      "source": [
        "No debe haber espacios en blanco antes de abrir paréntesis para los argumentos de una función."
      ]
    },
    {
      "cell_type": "code",
      "execution_count": null,
      "metadata": {
        "id": "rohChYHtZGO-"
      },
      "outputs": [],
      "source": [
        "#Bien\n",
        "int(4.599)"
      ]
    },
    {
      "cell_type": "code",
      "execution_count": null,
      "metadata": {
        "id": "R1IZkXKFZMPZ"
      },
      "outputs": [],
      "source": [
        "#Mal\n",
        "int (4.599)#Funciona, pero no es muy estético"
      ]
    },
    {
      "cell_type": "markdown",
      "metadata": {
        "id": "2hOBDAl318eu"
      },
      "source": [
        "* Dentro de paréntesis, corchetes y llaves\n",
        "\n"
      ]
    },
    {
      "cell_type": "code",
      "execution_count": null,
      "metadata": {
        "id": "K0BZ4Vuq1LcY"
      },
      "outputs": [],
      "source": [
        "#Bien\n",
        "np.random.beta(1, 4)\n",
        "np.random.beta(1, 1, 2)"
      ]
    },
    {
      "cell_type": "code",
      "execution_count": null,
      "metadata": {
        "id": "DNoE4Lu01uot"
      },
      "outputs": [],
      "source": [
        "#Mal\n",
        "np.random.beta( 1, 1 )"
      ]
    },
    {
      "cell_type": "code",
      "execution_count": null,
      "metadata": {
        "id": "KmT6gZyv2Qz_"
      },
      "outputs": [],
      "source": [
        "L[1]\n",
        "L[1, 2]"
      ]
    },
    {
      "cell_type": "code",
      "execution_count": null,
      "metadata": {
        "id": "0izwxLKX2Urq"
      },
      "outputs": [],
      "source": [
        "#Bien\n",
        "{'Marca': 'Ford', 'Modelo': 'Mustang'}\n",
        "#Mal\n",
        "{'Marca':'Ford', 'Modelo':'Mustang'}"
      ]
    },
    {
      "cell_type": "code",
      "execution_count": null,
      "metadata": {
        "id": "gJgzqZtf32b8"
      },
      "outputs": [],
      "source": [
        "#Bien\n",
        "spam(ham[1], {eggs: 2})\n",
        "#Mal\n",
        "spam( ham[ 1 ], { eggs: 2 } )"
      ]
    },
    {
      "cell_type": "markdown",
      "metadata": {
        "id": "-bSM-jkO4BPP"
      },
      "source": [
        "* Entre la última coma y un paréntesis adyacente"
      ]
    },
    {
      "cell_type": "code",
      "execution_count": null,
      "metadata": {
        "id": "6aA-uXnD4KGo"
      },
      "outputs": [],
      "source": [
        "#Bien\n",
        "fun(5,) #En este caso no se deja espacio\n",
        "#Mal\n",
        "fun(5, )"
      ]
    },
    {
      "cell_type": "markdown",
      "metadata": {
        "id": "ixe7F9Hqja3r"
      },
      "source": [
        "Espacio en operadores con diferente prioridad como `**`, `*` y `+`. En este caso se recomienda espacios alrededor de operadores con menor jerarquía. Esta forma de escribirlo ayuda a comprender cuáles operaciones son primero y cuáles después.\n",
        "\n",
        "\n",
        "\n"
      ]
    },
    {
      "cell_type": "code",
      "execution_count": null,
      "metadata": {
        "id": "FhUblpYNjbAd"
      },
      "outputs": [],
      "source": [
        "#Bien\n",
        "i = i + 1\n",
        "submitted += 1 #En este caso += sería el operador\n",
        "x = x*2 - 1\n",
        "hyp = x*x + y*y\n",
        "c = (a+b) * (a-b) #Primero van los paréntesis y luego el producto"
      ]
    },
    {
      "cell_type": "code",
      "execution_count": null,
      "metadata": {
        "id": "LNO58PrWkMJQ"
      },
      "outputs": [],
      "source": [
        "#Mal\n",
        "i=i+1\n",
        "submitted +=1\n",
        "x = x * 2 - 1\n",
        "hyp = x * x + y * y #Una lectura rápida pudiera sugerir que el producto y la suma son de la misma jerarquía.\n",
        "c = (a + b) * (a - b)"
      ]
    },
    {
      "cell_type": "markdown",
      "metadata": {
        "id": "Ry6Dso4slEPf"
      },
      "source": [
        "No se pone espacio en el operador asignación de una función cuando se indica un valor predeterminado."
      ]
    },
    {
      "cell_type": "code",
      "execution_count": null,
      "metadata": {
        "id": "JjDnhL61lN1y"
      },
      "outputs": [],
      "source": [
        "#Bien\n",
        "def f(a, b=5):\n",
        "  return a + b\n",
        "\n",
        "def f2(d, cte=np.pi):\n",
        "  print(d + cte)"
      ]
    },
    {
      "cell_type": "code",
      "execution_count": null,
      "metadata": {
        "id": "m48i3kWdl99X"
      },
      "outputs": [],
      "source": [
        "#Mal\n",
        "def f(a, b = 5):\n",
        "  return a + b"
      ]
    },
    {
      "cell_type": "markdown",
      "metadata": {
        "id": "IgLSGpKnmODH"
      },
      "source": [
        "Ordenamiento de espacio cuando hay diversos valores o parámetros"
      ]
    },
    {
      "cell_type": "code",
      "execution_count": null,
      "metadata": {
        "id": "tisjOsEPmOLB"
      },
      "outputs": [],
      "source": [
        "L = [\n",
        "    1, 2, 3,\n",
        "    4, 5, 6,\n",
        "    ]\n",
        "\n",
        "prueba = f_con_args(\n",
        "    'asf', 5, 'strr',\n",
        "    'd', 'e', 'f'\n",
        "    )"
      ]
    },
    {
      "cell_type": "markdown",
      "metadata": {
        "id": "4wOaeJRSmddL"
      },
      "source": [
        "Lo mismo para diccionarios"
      ]
    },
    {
      "cell_type": "code",
      "execution_count": null,
      "metadata": {
        "id": "VS22woBYme6M"
      },
      "outputs": [],
      "source": [
        "dicc = {\n",
        "    1: 'hola',\n",
        "    2: 'adios'\n",
        "    }"
      ]
    },
    {
      "cell_type": "markdown",
      "metadata": {
        "id": "_8v-fc7wnDkN"
      },
      "source": [
        "## 4 carácteres de identación y 80 carácteres por línea (`\\`)"
      ]
    },
    {
      "cell_type": "code",
      "execution_count": null,
      "metadata": {
        "colab": {
          "base_uri": "https://localhost:8080/"
        },
        "id": "EKIb_n-Z4yxF",
        "outputId": "be6fe92b-5833-40d1-8a72-aae02bfffd08"
      },
      "outputs": [
        {
          "name": "stdout",
          "output_type": "stream",
          "text": [
            "0\n",
            "1\n",
            "2\n",
            "3\n"
          ]
        }
      ],
      "source": [
        "#Probaremos diferentes niveles de identación\n",
        "for i in range(4):\n",
        "    print(i)"
      ]
    },
    {
      "cell_type": "code",
      "execution_count": null,
      "metadata": {
        "colab": {
          "base_uri": "https://localhost:8080/"
        },
        "id": "EEGVu5f-n3dd",
        "outputId": "e90f93ac-0e25-4c4b-9154-cd2206317950"
      },
      "outputs": [
        {
          "name": "stdout",
          "output_type": "stream",
          "text": [
            "7.1\n"
          ]
        }
      ],
      "source": [
        "print(5 + 2 \\\n",
        "      + 0.1)"
      ]
    }
  ],
  "metadata": {
    "colab": {
      "provenance": []
    },
    "kernelspec": {
      "display_name": "Python 3",
      "name": "python3"
    },
    "language_info": {
      "name": "python"
    }
  },
  "nbformat": 4,
  "nbformat_minor": 0
}
