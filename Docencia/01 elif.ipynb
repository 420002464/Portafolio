{
 "cells": [
  {
   "cell_type": "markdown",
   "id": "6e73316b",
   "metadata": {},
   "source": [
    "# if vs elif"
   ]
  },
  {
   "cell_type": "markdown",
   "id": "3608d4e9",
   "metadata": {},
   "source": [
    "Sabemos el uso de `if` en las condicionales en Python. Pero, ¿sabemos el uso y diferenciador de la palabra reservada `elif` en las condicionales?"
   ]
  },
  {
   "cell_type": "code",
   "execution_count": 1,
   "id": "b19caca8",
   "metadata": {},
   "outputs": [
    {
     "name": "stdout",
     "output_type": "stream",
     "text": [
      "Se ingreso un texto\n",
      "La primera letra es 's'\n",
      "La palabra es un si\n"
     ]
    }
   ],
   "source": [
    "cond = 'si'\n",
    "if type(cond) is str:\n",
    "    print(\"Se ingreso un texto\")\n",
    "if cond[0] == 's':\n",
    "    print(\"La primera letra es 's'\")\n",
    "if cond == 'si':\n",
    "    print(\"La palabra es un si\")\n",
    "else:\n",
    "    print(\"No se ingreso una cadena de texto\")"
   ]
  },
  {
   "cell_type": "markdown",
   "id": "b47df0ce",
   "metadata": {},
   "source": [
    "Podemos apreciar del código anterior que la variable `num1` cumplió con tres condicionales, las cuales ejecutaron sus respectivos resultados.\n",
    "¿Qué pasará si usamos `elif` en vez de `if`?"
   ]
  },
  {
   "cell_type": "code",
   "execution_count": 2,
   "id": "b99b4db1",
   "metadata": {},
   "outputs": [
    {
     "name": "stdout",
     "output_type": "stream",
     "text": [
      "Se ingreso un texto\n"
     ]
    }
   ],
   "source": [
    "cond = 'si'\n",
    "if type(cond) == str:\n",
    "    print(\"Se ingreso un texto\")\n",
    "elif cond[0] == 's':\n",
    "    print(\"La primera letra es 's'\")\n",
    "elif cond == 'si':\n",
    "    print(\"La palabra es un si\")\n",
    "else:\n",
    "    print(\"No se ingreso una cadena de texto\")"
   ]
  },
  {
   "cell_type": "markdown",
   "id": "3489eef6",
   "metadata": {},
   "source": [
    "Vemos que cuando después de un `if` sólo hay `elif` consecutivos sólo se cumple con la primera condición, mientras que cuando aparecen los `elif` ya no se producen sus resultados aunque cumpla con las condiciones. Esto se debe porque `elif` hace que se produzca el primer resultado de la primera coincidencia existente en los condicionales. Veamos otro ejemplo:"
   ]
  },
  {
   "cell_type": "code",
   "execution_count": 3,
   "id": "99bf87ab",
   "metadata": {},
   "outputs": [
    {
     "name": "stdout",
     "output_type": "stream",
     "text": [
      "Es múltiplo de 3\n",
      "Es múltiplo de 5\n",
      "Es mútliplo de 7\n"
     ]
    }
   ],
   "source": [
    "num1 = 3*5*7*11\n",
    "if num1%3 == 0:\n",
    "    print(\"Es múltiplo de 3\")\n",
    "if num1%5 == 0:\n",
    "    print(\"Es múltiplo de 5\")\n",
    "if num1%7 == 0:\n",
    "    print(\"Es mútliplo de 7\")\n",
    "else:\n",
    "    print(\"No es multiplo de ninguno\")"
   ]
  },
  {
   "cell_type": "code",
   "execution_count": 4,
   "id": "42216d43",
   "metadata": {},
   "outputs": [
    {
     "name": "stdout",
     "output_type": "stream",
     "text": [
      "Es múltiplo de 3\n"
     ]
    }
   ],
   "source": [
    "num1 = 3*5*7*11\n",
    "if num1%3 == 0:\n",
    "    print(\"Es múltiplo de 3\")\n",
    "elif num1%5 == 0:\n",
    "    print(\"Es múltiplo de 5\")\n",
    "elif num1%7 == 0:\n",
    "    print(\"Es mútliplo de 7\")\n",
    "else:\n",
    "    print(\"No es multiplo de ninguno\")"
   ]
  },
  {
   "cell_type": "markdown",
   "id": "0616c2dd",
   "metadata": {},
   "source": [
    "## ¿y si combinamos `if` y `elif`?"
   ]
  },
  {
   "cell_type": "markdown",
   "id": "81ec9210",
   "metadata": {},
   "source": [
    "Veremos diferentes combinaciones de estas palabras reservadas en las condicionales."
   ]
  },
  {
   "cell_type": "code",
   "execution_count": null,
   "id": "29ad47f8",
   "metadata": {},
   "outputs": [
    {
     "name": "stdout",
     "output_type": "stream",
     "text": [
      "Es múltiplo de 3\n",
      "Es mútliplo de 7\n",
      "Es multiplo de 11\n"
     ]
    }
   ],
   "source": [
    "num1 = 3*5*7*11\n",
    "if num1%3 == 0: #Este se imprime\n",
    "    print(\"Es múltiplo de 3\")\n",
    "elif num1%5 == 0: #Este no\n",
    "    print(\"Es múltiplo de 5\")\n",
    "if num1%7 == 0: #Este si\n",
    "    print(\"Es mútliplo de 7\")\n",
    "if num1%11 == 0: #Este si\n",
    "    print(\"Es multiplo de 11\")\n",
    "else:\n",
    "    print(\"No es multiplo de ninguno\")"
   ]
  },
  {
   "cell_type": "code",
   "execution_count": null,
   "id": "49220e39",
   "metadata": {},
   "outputs": [
    {
     "name": "stdout",
     "output_type": "stream",
     "text": [
      "Es múltiplo de 3\n",
      "Es mútliplo de 7\n"
     ]
    }
   ],
   "source": [
    "num1 = 3*5*7*11\n",
    "if num1%3 == 0: #si\n",
    "    print(\"Es múltiplo de 3\")\n",
    "elif num1%5 == 0: #no\n",
    "    print(\"Es múltiplo de 5\")\n",
    "if num1%7 == 0: #si\n",
    "    print(\"Es mútliplo de 7\")\n",
    "elif num1%11 == 0: #no\n",
    "    print(\"Es multiplo de 11\")\n",
    "else:\n",
    "    print(\"No es multiplo de ninguno\")"
   ]
  },
  {
   "cell_type": "code",
   "execution_count": null,
   "id": "6fe8ea85",
   "metadata": {},
   "outputs": [
    {
     "name": "stdout",
     "output_type": "stream",
     "text": [
      "Es múltiplo de 3\n",
      "Es multiplo de 11\n"
     ]
    }
   ],
   "source": [
    "num1 = 3*5*7*11\n",
    "if num1%3 == 0: #si\n",
    "    print(\"Es múltiplo de 3\")\n",
    "elif num1%5 == 0: #no\n",
    "    print(\"Es múltiplo de 5\")\n",
    "elif num1%7 == 0: #no\n",
    "    print(\"Es mútliplo de 7\")\n",
    "if num1%11 == 0: #si\n",
    "    print(\"Es multiplo de 11\")\n",
    "else:\n",
    "    print(\"No es multiplo de ninguno\")"
   ]
  },
  {
   "cell_type": "markdown",
   "id": "491b3637",
   "metadata": {},
   "source": [
    "Vemos entonces, que si hay `elif` en los condicionales, sabemos cuál se va a ejecutar se termina reduciendo a si hay alguna condición que se cumple con adyacencia superior para los `elif`. Lo anterior se puede ver en los tres ejemplos anteriores."
   ]
  }
 ],
 "metadata": {
  "kernelspec": {
   "display_name": "Python 3",
   "language": "python",
   "name": "python3"
  },
  "language_info": {
   "codemirror_mode": {
    "name": "ipython",
    "version": 3
   },
   "file_extension": ".py",
   "mimetype": "text/x-python",
   "name": "python",
   "nbconvert_exporter": "python",
   "pygments_lexer": "ipython3",
   "version": "3.12.5"
  }
 },
 "nbformat": 4,
 "nbformat_minor": 5
}
