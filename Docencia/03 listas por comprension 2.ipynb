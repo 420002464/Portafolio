{
 "cells": [
  {
   "cell_type": "markdown",
   "id": "324a4687",
   "metadata": {},
   "source": [
    "# Condicionales en listas por comprensión\n",
    "Ya sabemos cómo es la estructura general de una lista por comprensión. Se presentaría su forma general para los condicionales si es que no fuera diferente si es que tiene un `else` o no, dicho de otra forma, si no tiene un `else` tiene **una estructura**, pero si tiene un `else` **tiene otra**."
   ]
  },
  {
   "cell_type": "markdown",
   "id": "06495a48",
   "metadata": {},
   "source": [
    "## Cuando **no** tiene `else`"
   ]
  },
  {
   "cell_type": "markdown",
   "id": "8174e4a0",
   "metadata": {},
   "source": [
    "Cuando sólo tiene `if` tiene esta forma:<p style=\"text-align:center;\">[f(i) for i in objeto `if` `<CONDICION>`] </p>\n"
   ]
  },
  {
   "cell_type": "code",
   "execution_count": null,
   "id": "9309838b",
   "metadata": {},
   "outputs": [
    {
     "name": "stdout",
     "output_type": "stream",
     "text": [
      "[100, 98, 96, 94, 92, 90, 88, 86, 84, 82, 80, 78, 76, 74, 72, 70, 68, 66, 64, 62, 60, 58, 56, 54, 52, 50, 48, 46, 44, 42, 40, 38, 36, 34, 32, 30, 28, 26, 24, 22, 20, 18, 16, 14, 12, 10, 8, 6, 4, 2]\n"
     ]
    }
   ],
   "source": [
    "L = [i for i in range(100,1,-1) if i%2==0]\n",
    "print(L) #Regresa una lista de pares descendientes desde el 100 hasta 2"
   ]
  },
  {
   "cell_type": "code",
   "execution_count": 12,
   "id": "8702272c",
   "metadata": {},
   "outputs": [
    {
     "data": {
      "text/plain": [
       "['AA', 'AA', 'AA', 'II', 'II', 'II', 'UU', 'AA', 'OO']"
      ]
     },
     "execution_count": 12,
     "metadata": {},
     "output_type": "execute_result"
    }
   ],
   "source": [
    "def loc(a):\n",
    "    return a.upper()*2\n",
    "[loc(j) for j in 'parangatirimicuaro' if loc(j) in ['AA', 'EE', 'II', 'UU', 'OO']]"
   ]
  },
  {
   "cell_type": "markdown",
   "id": "f5d6785d",
   "metadata": {},
   "source": [
    "En este ejemplo mostramos las letras duplicadas de `parangatirimicuaro` cuando al aplicar la función sea una vocal (doble). La condición es `loc(j) in ['AA', 'EE', 'II', 'UU', 'OO']` que va después de la palabra `parangatirimicuaro`."
   ]
  },
  {
   "cell_type": "markdown",
   "id": "36ae9b25",
   "metadata": {},
   "source": [
    "## Cuando **tiene** `else`"
   ]
  },
  {
   "cell_type": "markdown",
   "id": "b42aacba",
   "metadata": {},
   "source": [
    "Cuando la lista por comprensión tiene `if` y `else` tiene el siguiente formato:<p style=\"text-align:center;\">[f(i) `if` `<Condicion>` `else` `Consecuencia` i for i in objeto ] </p>"
   ]
  },
  {
   "cell_type": "code",
   "execution_count": null,
   "id": "e60e592e",
   "metadata": {},
   "outputs": [
    {
     "data": {
      "text/plain": [
       "[0,\n",
       " 'AA',\n",
       " 0,\n",
       " 'AA',\n",
       " 0,\n",
       " 0,\n",
       " 'AA',\n",
       " 0,\n",
       " 'II',\n",
       " 0,\n",
       " 'II',\n",
       " 0,\n",
       " 'II',\n",
       " 0,\n",
       " 'UU',\n",
       " 'AA',\n",
       " 0,\n",
       " 'OO']"
      ]
     },
     "execution_count": 10,
     "metadata": {},
     "output_type": "execute_result"
    }
   ],
   "source": [
    "def loc(a):\n",
    "    return a.upper()*2\n",
    "[loc(j) if loc(j) in ['AA', 'EE', 'II', 'UU', 'OO'] else 0 for j in 'parangatirimicuaro']"
   ]
  },
  {
   "cell_type": "markdown",
   "id": "7851f1d2",
   "metadata": {},
   "source": [
    "En el código modificado en caso de no ser vocales de la palabra va a ser un `0` en la lista"
   ]
  },
  {
   "cell_type": "markdown",
   "id": "8d3307df",
   "metadata": {},
   "source": [
    "## Complicando la cosa aún más"
   ]
  },
  {
   "cell_type": "markdown",
   "id": "93113a03",
   "metadata": {},
   "source": [
    "¿Podremos poner más de un ciclo `for` dentro de la lista?\n",
    "Claro que sí"
   ]
  },
  {
   "cell_type": "code",
   "execution_count": 19,
   "id": "10fc1827",
   "metadata": {},
   "outputs": [
    {
     "name": "stdout",
     "output_type": "stream",
     "text": [
      "[(0, 0), (0, 1), (0, 2), (1, 0), (1, 1), (1, 2), (2, 0), (2, 1), (2, 2), (3, 0), (3, 1), (3, 2), (4, 0), (4, 1), (4, 2)]\n"
     ]
    }
   ],
   "source": [
    "L = [(i,j) for i in range(5) for j in range(3)]\n",
    "print(L)"
   ]
  },
  {
   "cell_type": "markdown",
   "id": "7e6e5f0b",
   "metadata": {},
   "source": [
    "Podemos ver que la variable que primero cambia es la del ciclo `for` exterior y la interior cambia posteriormente, dicho de otra forma si hay varios ciclos, el orden de estos es de derecha a izquierda, incluso cuando se pudiera pensar que el sentido es al revés."
   ]
  },
  {
   "cell_type": "code",
   "execution_count": 22,
   "id": "96017bad",
   "metadata": {},
   "outputs": [
    {
     "data": {
      "text/plain": [
       "[[(0, 0), (1, 0), (2, 0), (3, 0), (4, 0)],\n",
       " [(0, 1), (1, 1), (2, 1), (3, 1), (4, 1)],\n",
       " [(0, 2), (1, 2), (2, 2), (3, 2), (4, 2)]]"
      ]
     },
     "execution_count": 22,
     "metadata": {},
     "output_type": "execute_result"
    }
   ],
   "source": [
    "[[(i,j) for i in range(5)] for j in range(3)]"
   ]
  },
  {
   "cell_type": "markdown",
   "id": "3cb788e7",
   "metadata": {},
   "source": [
    "En cambio en el último ejemplo, el cual consistió en una lista por comprensión dentro de otra, primero se itera la lista interna y luego la externa, lo cual se traduce en que ahora los ciclos `for` se ejecutan de dentro hacia afuera, o de izquierda a derecha. Una situación que es contraria al penultimo ejemplo visto. 😱😱😲😲"
   ]
  }
 ],
 "metadata": {
  "kernelspec": {
   "display_name": "Python 3",
   "language": "python",
   "name": "python3"
  },
  "language_info": {
   "codemirror_mode": {
    "name": "ipython",
    "version": 3
   },
   "file_extension": ".py",
   "mimetype": "text/x-python",
   "name": "python",
   "nbconvert_exporter": "python",
   "pygments_lexer": "ipython3",
   "version": "3.12.5"
  }
 },
 "nbformat": 4,
 "nbformat_minor": 5
}
