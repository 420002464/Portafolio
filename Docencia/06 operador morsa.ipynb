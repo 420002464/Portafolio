{
 "cells": [
  {
   "cell_type": "markdown",
   "id": "19dd3564",
   "metadata": {},
   "source": [
    "# Operador morsa (Walrus) `:=`"
   ]
  }
 ],
 "metadata": {
  "language_info": {
   "name": "python"
  }
 },
 "nbformat": 4,
 "nbformat_minor": 5
}
