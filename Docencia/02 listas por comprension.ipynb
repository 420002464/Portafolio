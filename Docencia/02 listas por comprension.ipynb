{
 "cells": [
  {
   "cell_type": "markdown",
   "id": "7f86860e",
   "metadata": {},
   "source": [
    "# Listas por comprensión"
   ]
  },
  {
   "cell_type": "markdown",
   "id": "914592be",
   "metadata": {},
   "source": [
    "Las listas por comprensión son una mezcla entre un ciclo y un elemento de tipo `list`. La razón por la cual son tan importante es que son muy eficientes y rápidos en el lenguaje `Python`. Dicho de otra forma, es una forma \"Pythonizada\" de trabajar código."
   ]
  },
  {
   "cell_type": "markdown",
   "id": "1cdf66d8",
   "metadata": {},
   "source": [
    "La estructura general de las listas por comprensión es de la siguiente manera:<p style=\"text-align:center;\">[`f(i)` `for` `i` `in` `object`]</p>\n",
    "* Donde `f(i)` es un función (o expresión) con respecto a `i`, es decir, el elemento que va a ser generado y se almacenará en la lista.\n",
    "* `for` indica el ciclo que se realizará el la lista.\n",
    "* `i` hace referencia a la variable relacionada al ciclo.\n",
    "* `Object` hace referencia al objeto iterable sobre el cual recorrerá `i`."
   ]
  },
  {
   "cell_type": "markdown",
   "id": "f45ffcc6",
   "metadata": {},
   "source": [
    "## Presentaremos unos ejemplos."
   ]
  },
  {
   "cell_type": "code",
   "execution_count": 11,
   "id": "e628d8e4",
   "metadata": {},
   "outputs": [
    {
     "name": "stdout",
     "output_type": "stream",
     "text": [
      "[0, 1, 4, 9, 16, 25, 36, 49, 64, 81, 100, 121, 144, 169, 196, 225, 256, 289, 324, 361]\n"
     ]
    }
   ],
   "source": [
    "L1 = [i**2 for i in range(20)]\n",
    "print(L1)"
   ]
  },
  {
   "cell_type": "code",
   "execution_count": 14,
   "id": "8e26cf99",
   "metadata": {},
   "outputs": [
    {
     "name": "stdout",
     "output_type": "stream",
     "text": [
      "[0, 1, 2, 3, 4, 5, 6, 7, 8, 9, 10, 11, 12, 13, 14]\n"
     ]
    }
   ],
   "source": [
    "L2 = [x for x in range(15)]\n",
    "print(L2)"
   ]
  },
  {
   "cell_type": "code",
   "execution_count": 15,
   "id": "ee2a32da",
   "metadata": {},
   "outputs": [
    {
     "name": "stdout",
     "output_type": "stream",
     "text": [
      "[0.0, 5.31, 21.24, 47.79, 84.96, 132.75, 191.16, 260.19, 339.84, 430.10999999999996, 531.0, 642.51, 764.64, 897.39, 1040.76, 1194.75, 1359.36, 1534.59, 1720.4399999999998, 1916.9099999999999]\n"
     ]
    }
   ],
   "source": [
    "L3 = [5.31*j for j in L1]\n",
    "print(L3)"
   ]
  },
  {
   "cell_type": "code",
   "execution_count": 16,
   "id": "b3d9064d",
   "metadata": {},
   "outputs": [
    {
     "name": "stdout",
     "output_type": "stream",
     "text": [
      "[np.float64(0.0), np.float64(1.0), np.float64(2.0), np.float64(3.0), np.float64(4.0), np.float64(5.0), np.float64(6.0), np.float64(7.0), np.float64(8.0), np.float64(9.0), np.float64(10.0), np.float64(11.0), np.float64(12.0), np.float64(13.0), np.float64(14.0), np.float64(15.0), np.float64(16.0), np.float64(17.0), np.float64(18.0), np.float64(19.0)]\n"
     ]
    }
   ],
   "source": [
    "import numpy as np\n",
    "L4 = [np.sqrt(i) for i in L1]\n",
    "print(L4)"
   ]
  },
  {
   "cell_type": "markdown",
   "id": "f9f13175",
   "metadata": {},
   "source": [
    "## ¿Se pueden poner condicionales a las listas por comprensión?\n",
    "Sí, y lo veremos en la siguiente libreta."
   ]
  }
 ],
 "metadata": {
  "kernelspec": {
   "display_name": "Python 3",
   "language": "python",
   "name": "python3"
  },
  "language_info": {
   "codemirror_mode": {
    "name": "ipython",
    "version": 3
   },
   "file_extension": ".py",
   "mimetype": "text/x-python",
   "name": "python",
   "nbconvert_exporter": "python",
   "pygments_lexer": "ipython3",
   "version": "3.12.5"
  }
 },
 "nbformat": 4,
 "nbformat_minor": 5
}
