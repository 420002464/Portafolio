{
 "cells": [
  {
   "cell_type": "markdown",
   "metadata": {},
   "source": [
    "Cuando uno descarga imágenes de Twitter (ahora X) puede ocurrir que la extensión del archivo sea `.jpg_large`.\n",
    "\n",
    "Si uno intenta acceder a la imágen verá que no le es posible acceder a ésta. Para poder visualizarla sólo es necesario eliminar la parte de `_large`, es decir, cambiar la extensión de `.jpg_large` a `.jpg`. Hacerlo para un archivo es bastante fácil, pero si en el directorio (o carpeta) en la que nos encontramos hay una gran cantidad de estos archivos lo más cómodo es implementar una solución, que es lo que haremos."
   ]
  },
  {
   "cell_type": "code",
   "execution_count": 1,
   "metadata": {},
   "outputs": [],
   "source": [
    "import os"
   ]
  },
  {
   "cell_type": "markdown",
   "metadata": {},
   "source": [
    "importamos la biblioteca `os` que es la que nos permitirá movernos por los directorios (o carpetas) y es la que hará viable la modificación de archivos en nuestra computadora."
   ]
  },
  {
   "cell_type": "code",
   "execution_count": 2,
   "metadata": {},
   "outputs": [],
   "source": [
    "ruta = r'' #en esta cadena se debe de agregar la ruta en la que queremos realizar las modificaciones de los archivos"
   ]
  },
  {
   "cell_type": "code",
   "execution_count": null,
   "metadata": {},
   "outputs": [],
   "source": []
  }
 ],
 "metadata": {
  "kernelspec": {
   "display_name": "Python 3",
   "language": "python",
   "name": "python3"
  },
  "language_info": {
   "codemirror_mode": {
    "name": "ipython",
    "version": 3
   },
   "file_extension": ".py",
   "mimetype": "text/x-python",
   "name": "python",
   "nbconvert_exporter": "python",
   "pygments_lexer": "ipython3",
   "version": "3.12.5"
  }
 },
 "nbformat": 4,
 "nbformat_minor": 2
}
