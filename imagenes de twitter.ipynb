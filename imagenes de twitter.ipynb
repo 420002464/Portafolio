{
 "cells": [
  {
   "cell_type": "markdown",
   "metadata": {},
   "source": [
    "Cuando uno descarga imágenes de Twitter (ahora X) puede ocurrir que la extensión del archivo sea `.jpg_large`.\n",
    "\n",
    "Si uno intenta acceder a la imágen verá que no le es posible acceder a ésta. Para poder visualizarla sólo es necesario eliminar la parte de `_large`, es decir, cambiar la extensión de `.jpg_large` a `.jpg`. Hacerlo para un archivo es bastante fácil, pero si en el directorio (o carpeta) en la que nos encontramos hay una gran cantidad de estos archivos lo más cómodo es implementar una solución, que es lo que haremos."
   ]
  },
  {
   "cell_type": "code",
   "execution_count": 1,
   "metadata": {},
   "outputs": [],
   "source": [
    "import os"
   ]
  },
  {
   "cell_type": "markdown",
   "metadata": {},
   "source": [
    "importamos la biblioteca `os` que es la que nos permitirá movernos por los directorios (o carpetas) y es la que hará viable la modificación de archivos en nuestra computadora."
   ]
  },
  {
   "cell_type": "code",
   "execution_count": 2,
   "metadata": {},
   "outputs": [],
   "source": [
    "ruta = r'C:\\Users\\luish\\Downloads' #en esta cadena se debe de agregar la ruta en la que queremos realizar las modificaciones de los archivos"
   ]
  },
  {
   "cell_type": "markdown",
   "metadata": {},
   "source": [
    "El `r` antes de la cadena permitirá que se pueda pegar la ruta de manera directa del explorador de Windows. De otra forma Python interpretaría la ruta de manera errónea, pues los `\\` indica un comando para las cadenas en este lenguaje. Para Linux o Mac se usa `/`, entonces la `r` se le puede dejar (o remover) ya que no estaría afectando el funcionamiento del programa en estos sistemas operativos."
   ]
  },
  {
   "cell_type": "code",
   "execution_count": null,
   "metadata": {},
   "outputs": [
    {
     "name": "stdout",
     "output_type": "stream",
     "text": [
      "['Bibliografia.pdf', 'Bibliografia_merged.pdf', 'Book (3).pdf', 'certificado .pdf', 'copia de formato.pdf', 'desktop.ini', 'Git-2.47.0-64-bit.exe', 'Indice.pdf', 'jurado.pdf', 'jurado_merged.pdf', 'JurMatApl2021.pdf', 'LibreOffice_7.6.7_Win_x86-64.msi', 'OpenCobolIDE-4.7.6_Setup.exe', 'otros', 'python-3.12.5-amd64.exe', 'README.R-4.4.1', 'Registro.pdf', 'servicio.pdf', 'twitter-1280x720.jpg_large', 'Wolfram App 14.1 and English Documentation', 'ya veremos dijo el ciego.jpg_large', 'ZoomInstallerFull.exe']\n"
     ]
    }
   ],
   "source": [
    "Archivos = os.listdir(ruta)\n",
    "os.chdir(ruta) #Cambio de directorio\n",
    "print(Archivos)"
   ]
  },
  {
   "cell_type": "markdown",
   "metadata": {},
   "source": [
    "Definimos la variable `Archivos` para poder guardar en una lista los nombres de los archivos de la ruta específicada. Se debe de cambiar de carpeta (o directorio) en el programa, ya que de otra manera se buscarán los archivos a editar en la carpeta en donde se ejecuta el programa (que en principio **NO** es la descargas o cualquiera que esté definida en `ruta`). También se comprueba que la variable tenga los nombres esperados."
   ]
  },
  {
   "cell_type": "code",
   "execution_count": 4,
   "metadata": {},
   "outputs": [],
   "source": [
    "for nombre in Archivos:\n",
    "    if nombre[-9::] == 'jpg_large': #Se pudo hacer lo mismo con nombre[-6::]=='_large' pero se optó por una precisión total\n",
    "        os.rename(nombre, nombre[:-6])"
   ]
  },
  {
   "cell_type": "markdown",
   "metadata": {},
   "source": [
    "Con un cíclo `for` buscamos en los nombres de la variable `Archivos` a aquellos que tengan extensión `jpg_large` (por medio del `slicing`). Los que tengan esa extensión van a ser renombrados con una extensión `jpg` por medio del método `os.rename()`."
   ]
  },
  {
   "cell_type": "markdown",
   "metadata": {},
   "source": [
    "# Escribiendo el código sin interrupciones resulta en:"
   ]
  },
  {
   "cell_type": "code",
   "execution_count": 5,
   "metadata": {},
   "outputs": [],
   "source": [
    "import os\n",
    "\n",
    "ruta = r'C:\\Users\\luish\\Downloads' #en esta cadena se debe de agregar la ruta en la que queremos realizar las modificaciones de los archivos\n",
    "\n",
    "Archivos = os.listdir(ruta)\n",
    "\n",
    "for nombre in Archivos:\n",
    "    if nombre[-9::] == 'jpg_large':\n",
    "        os.rename(nombre, nombre[:-6])"
   ]
  }
 ],
 "metadata": {
  "kernelspec": {
   "display_name": "Python 3",
   "language": "python",
   "name": "python3"
  },
  "language_info": {
   "codemirror_mode": {
    "name": "ipython",
    "version": 3
   },
   "file_extension": ".py",
   "mimetype": "text/x-python",
   "name": "python",
   "nbconvert_exporter": "python",
   "pygments_lexer": "ipython3",
   "version": "3.12.5"
  }
 },
 "nbformat": 4,
 "nbformat_minor": 2
}
