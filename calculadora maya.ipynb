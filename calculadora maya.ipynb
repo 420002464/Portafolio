{
 "cells": [
  {
   "cell_type": "markdown",
   "metadata": {},
   "source": [
    "# Calculadora Maya\n",
    "El sistema de numeración maya es una vigesimal, donde cada espacio tiene 20 posibilidades (del 0 al 19) por cada espacio, mientras que en la numeración común son 10 (de 0 a 9) por cada espacio."
   ]
  },
  {
   "cell_type": "markdown",
   "metadata": {},
   "source": [
    "Empezaremos definiendo una función que transforme un número decimal entero (`int`) en uno maya (vigesimal). El resultado a devolver será una lista (`list`) de números, pues de esta forma se representarán su numeración de manera correcta."
   ]
  },
  {
   "cell_type": "code",
   "execution_count": 1,
   "metadata": {},
   "outputs": [],
   "source": [
    "def dec_may(numero_dec: int) -> list:\n",
    "    pos = len(str(numero_dec))\n",
    "    L = []\n",
    "    while pos>=0:\n",
    "        if numero_dec // (20**pos) == 0:\n",
    "            L.append(0)\n",
    "            pos -= 1\n",
    "        if len(L)>1 and L[0]==0:\n",
    "            L = L[1::]\n",
    "        else:\n",
    "            L.append(numero_dec // (20**pos))\n",
    "            numero_dec %= (20**pos)\n",
    "            pos -= 1\n",
    "    return L\n",
    "\n"
   ]
  },
  {
   "cell_type": "code",
   "execution_count": 2,
   "metadata": {},
   "outputs": [
    {
     "data": {
      "text/plain": [
       "[1, 4]"
      ]
     },
     "execution_count": 2,
     "metadata": {},
     "output_type": "execute_result"
    }
   ],
   "source": [
    "dec_may(24)"
   ]
  },
  {
   "cell_type": "markdown",
   "metadata": {},
   "source": [
    "Definimos la función inversa, la cual transforma un número maya a decimal. Ingresaremos un dato tipo `list` y nos regresará un dato tipo `int` que será nuestro número en base 10."
   ]
  },
  {
   "cell_type": "code",
   "execution_count": 3,
   "metadata": {},
   "outputs": [],
   "source": [
    "def may_dec(numero_maya: list) -> int:\n",
    "    pos = len(numero_maya)\n",
    "    numero = 0\n",
    "    for potencia in range(0,pos):\n",
    "        numero += numero_maya[::-1][potencia]*20**(potencia)#checar el [::-1]\n",
    "    return numero"
   ]
  },
  {
   "cell_type": "code",
   "execution_count": 4,
   "metadata": {},
   "outputs": [
    {
     "data": {
      "text/plain": [
       "10000"
      ]
     },
     "execution_count": 4,
     "metadata": {},
     "output_type": "execute_result"
    }
   ],
   "source": [
    "may_dec([1,5,0,0])"
   ]
  },
  {
   "cell_type": "code",
   "execution_count": 5,
   "metadata": {},
   "outputs": [
    {
     "data": {
      "text/plain": [
       "2"
      ]
     },
     "execution_count": 5,
     "metadata": {},
     "output_type": "execute_result"
    }
   ],
   "source": [
    "len([1,4])"
   ]
  }
 ],
 "metadata": {
  "kernelspec": {
   "display_name": "Python 3",
   "language": "python",
   "name": "python3"
  },
  "language_info": {
   "codemirror_mode": {
    "name": "ipython",
    "version": 3
   },
   "file_extension": ".py",
   "mimetype": "text/x-python",
   "name": "python",
   "nbconvert_exporter": "python",
   "pygments_lexer": "ipython3",
   "version": "3.12.5"
  }
 },
 "nbformat": 4,
 "nbformat_minor": 2
}
