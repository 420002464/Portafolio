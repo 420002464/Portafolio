{
 "cells": [
  {
   "cell_type": "markdown",
   "metadata": {},
   "source": [
    "# Calculadora Maya\n",
    "El sistema de numeración maya es una vigesimal, donde cada espacio tiene 20 posibilidades (del 0 al 19) por cada espacio, mientras que en la numeración común son 10 (de 0 a 9) por cada espacio."
   ]
  },
  {
   "cell_type": "markdown",
   "metadata": {},
   "source": [
    "Empezaremos definiendo una función que transforme un número decimal entero (`int`) en uno maya (vigesimal). El resultado a devolver será una lista (`list`) de números, pues de esta forma se representarán su numeración de manera correcta."
   ]
  },
  {
   "cell_type": "code",
   "execution_count": 1,
   "metadata": {},
   "outputs": [],
   "source": [
    "def dec_may(numero_dec: int) -> list:\n",
    "    pos = len(str(numero_dec))\n",
    "    L = []\n",
    "    while pos>=0:\n",
    "        if numero_dec // (20**pos) == 0:\n",
    "            L.append(0)\n",
    "            pos -= 1\n",
    "        if len(L)>1 and L[0]==0:\n",
    "            L = L[1::]\n",
    "        else:\n",
    "            L.append(numero_dec // (20**pos))\n",
    "            numero_dec %= (20**pos)\n",
    "            pos -= 1\n",
    "    return L\n",
    "\n"
   ]
  },
  {
   "cell_type": "code",
   "execution_count": 2,
   "metadata": {},
   "outputs": [
    {
     "data": {
      "text/plain": [
       "[1, 4]"
      ]
     },
     "execution_count": 2,
     "metadata": {},
     "output_type": "execute_result"
    }
   ],
   "source": [
    "dec_may(24)"
   ]
  },
  {
   "cell_type": "markdown",
   "metadata": {},
   "source": [
    "Definimos la función inversa, la cual transforma un número maya a decimal. Ingresaremos un dato tipo `list` y nos regresará un dato tipo `int` que será nuestro número en base 10."
   ]
  },
  {
   "cell_type": "code",
   "execution_count": 3,
   "metadata": {},
   "outputs": [],
   "source": [
    "def may_dec(numero_maya: list) -> int:\n",
    "    pos = len(numero_maya)\n",
    "    numero = 0\n",
    "    for potencia in range(0,pos):\n",
    "        numero += numero_maya[::-1][potencia]*20**(potencia)#checar el [::-1]\n",
    "    return numero"
   ]
  },
  {
   "cell_type": "code",
   "execution_count": 4,
   "metadata": {},
   "outputs": [
    {
     "data": {
      "text/plain": [
       "10000"
      ]
     },
     "execution_count": 4,
     "metadata": {},
     "output_type": "execute_result"
    }
   ],
   "source": [
    "may_dec([1,5,0,0])"
   ]
  },
  {
   "cell_type": "code",
   "execution_count": 5,
   "metadata": {},
   "outputs": [
    {
     "data": {
      "text/plain": [
       "2"
      ]
     },
     "execution_count": 5,
     "metadata": {},
     "output_type": "execute_result"
    }
   ],
   "source": [
    "len([1,4])"
   ]
  },
  {
   "cell_type": "markdown",
   "metadata": {},
   "source": [
    "## Suma\n",
    "La operación de suma se implementa de manera vigesimal y no de manera decimal, es decir, no se transforman los números de maya a decimal en ningún momento."
   ]
  },
  {
   "cell_type": "code",
   "execution_count": 6,
   "metadata": {},
   "outputs": [],
   "source": [
    "def suma(a:list, b:list) -> list:\n",
    "    if len(a) != len(b): #Ajustaremos el tamaño de los números mayas para que tengan la misma cantidad\n",
    "        cantidad_ceros = abs(len(a)-len(b))\n",
    "        if min([len(a), len(b)]) == len(a):\n",
    "            a = cantidad_ceros*[0] + a#no se puede usar += por que no es conmutativo para las listas\n",
    "        else:\n",
    "            b = cantidad_ceros*[0]  + b\n",
    "    a = a[::-1]\n",
    "    b = b[::-1]\n",
    "    L = []\n",
    "    c = 0\n",
    "    for i in range(len(a)):\n",
    "        c += a[i] + b[i]\n",
    "        if c >= 20 and i<(len(a)-1):\n",
    "            L.append(c - 20)\n",
    "            #L.append(1)#Voy a ver si agregando esto jala. TAMPOCO.\n",
    "            #nO LO ESTOY SUMANDO\n",
    "            c = 1\n",
    "            continue\n",
    "        if c >= 20 and i == (len(a)-1):\n",
    "            L.append(c-20)\n",
    "            L.append(1)\n",
    "            break\n",
    "        else:\n",
    "            L.append(c)\n",
    "            c = 0\n",
    "            continue\n",
    "    return L[::-1]\n"
   ]
  },
  {
   "cell_type": "code",
   "execution_count": null,
   "metadata": {},
   "outputs": [
    {
     "data": {
      "text/plain": [
       "[2, 7]"
      ]
     },
     "execution_count": 9,
     "metadata": {},
     "output_type": "execute_result"
    }
   ],
   "source": [
    "suma([19],[1,8])"
   ]
  },
  {
   "cell_type": "markdown",
   "metadata": {},
   "source": [
    "## Resta\n",
    "Se implementará una función para la resta vigésimal de manera similar a la suma. Recordemos que la resta **no** es conmutativa, además que no se contemplaban los números negativos. Para solucionar esto, si la función detecta que se quiere hacer una operación al estilo `[5]-[19]`, la función invertirá el orden y realizará la operación `[19]-[5]`, la cual dará un número no negativo en numeración vigesimal."
   ]
  },
  {
   "cell_type": "code",
   "execution_count": 113,
   "metadata": {},
   "outputs": [],
   "source": [
    "def resta(a:list, b:list) -> list:\n",
    "    if len(a) != len(b): \n",
    "        cantidad_ceros = abs(len(a)-len(b))\n",
    "        if min([len(a), len(b)]) == len(a):\n",
    "            a = cantidad_ceros*[0] + a\n",
    "        else:\n",
    "            b = cantidad_ceros*[0] + b\n",
    "    if may_dec(a) < may_dec(b): #Se corrige el orden de la resta\n",
    "        return resta(b, a)\n",
    "    a = a[::-1]\n",
    "    b = b[::-1]\n",
    "    L = []\n",
    "    for i in range(len(a)):\n",
    "        if a[i] < b[i]: #Hacemos un recorrido si hay ceros en la resta\n",
    "            Indice = i + 1\n",
    "            while a[Indice] == 0:# and Indice < (len(a)-1): #Indice + 1? b[i]>0\n",
    "                if [Indice+1]>0:\n",
    "                    for j in range(Indice+1, i,-1):\n",
    "                        a[j] -= 1\n",
    "                        a[j-1] += 20\n",
    "                    break\n",
    "                Indice += 1\n",
    "            a[i+1] -= 1\n",
    "            a[i] += 20\n",
    "                \n",
    "        L.append(a[i]-b[i])\n",
    "    return L[::-1]\n",
    "\n"
   ]
  },
  {
   "cell_type": "markdown",
   "metadata": {},
   "source": [
    "Presentaremos una función alterna que hace lo mismo, pero de una manera más corta."
   ]
  },
  {
   "cell_type": "code",
   "execution_count": 82,
   "metadata": {},
   "outputs": [],
   "source": [
    "def res(a,b):\n",
    "     if len(a) != len(b): \n",
    "        cantidad_ceros = abs(len(a)-len(b))\n",
    "        if min([len(a), len(b)]) == len(a):\n",
    "            a = cantidad_ceros*[0] + a\n",
    "        else:\n",
    "            b = cantidad_ceros*[0] + b\n",
    "     if may_dec(a) < may_dec(b): #Se corrige el orden de la resta\n",
    "        return res(b, a)\n",
    "     a = a[::-1]\n",
    "     b = b[::-1]\n",
    "     L = []\n",
    "     for i in range(len(a)):\n",
    "         if a[i] < b[i]:\n",
    "             a[i+1] -= 1\n",
    "             a[i] += 20\n",
    "         L.append(a[i]-b[i])\n",
    "     L = L[::-1]\n",
    "     return L"
   ]
  },
  {
   "cell_type": "code",
   "execution_count": 86,
   "metadata": {},
   "outputs": [
    {
     "data": {
      "text/plain": [
       "[14, 12]"
      ]
     },
     "execution_count": 86,
     "metadata": {},
     "output_type": "execute_result"
    }
   ],
   "source": [
    "res([15,0],[8])"
   ]
  },
  {
   "cell_type": "code",
   "execution_count": 116,
   "metadata": {},
   "outputs": [
    {
     "data": {
      "text/plain": [
       "[0, 9]"
      ]
     },
     "execution_count": 116,
     "metadata": {},
     "output_type": "execute_result"
    }
   ],
   "source": [
    "res([1,8],[0,19])"
   ]
  },
  {
   "cell_type": "code",
   "execution_count": 125,
   "metadata": {},
   "outputs": [
    {
     "data": {
      "text/plain": [
       "[14, 17]"
      ]
     },
     "execution_count": 125,
     "metadata": {},
     "output_type": "execute_result"
    }
   ],
   "source": [
    "dec_may(297)"
   ]
  },
  {
   "cell_type": "code",
   "execution_count": 128,
   "metadata": {},
   "outputs": [
    {
     "data": {
      "text/plain": [
       "[0, 11]"
      ]
     },
     "execution_count": 128,
     "metadata": {},
     "output_type": "execute_result"
    }
   ],
   "source": [
    "resta([0,19],[0,8])"
   ]
  }
 ],
 "metadata": {
  "kernelspec": {
   "display_name": "Python 3",
   "language": "python",
   "name": "python3"
  },
  "language_info": {
   "codemirror_mode": {
    "name": "ipython",
    "version": 3
   },
   "file_extension": ".py",
   "mimetype": "text/x-python",
   "name": "python",
   "nbconvert_exporter": "python",
   "pygments_lexer": "ipython3",
   "version": "3.12.5"
  }
 },
 "nbformat": 4,
 "nbformat_minor": 2
}
