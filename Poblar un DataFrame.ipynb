{
 "cells": [
  {
   "cell_type": "markdown",
   "metadata": {},
   "source": [
    "# Poblar un data frame"
   ]
  },
  {
   "cell_type": "markdown",
   "metadata": {},
   "source": [
    "Primero importaremos la biblioteca `pandas` la cual va a ser indispensable para la representación de `dataframes`."
   ]
  },
  {
   "cell_type": "code",
   "execution_count": 2,
   "metadata": {},
   "outputs": [],
   "source": [
    "import pandas as pd"
   ]
  },
  {
   "cell_type": "markdown",
   "metadata": {},
   "source": [
    "Mostraremos a continuación un ejemplo de cómo es la estructura de un diccionario para poder transformarlo en un `DataFrame`"
   ]
  },
  {
   "cell_type": "code",
   "execution_count": 3,
   "metadata": {},
   "outputs": [
    {
     "name": "stdout",
     "output_type": "stream",
     "text": [
      "<class 'dict'>\n",
      "{'Estatura': [1.34, 1.98], 'nombre': ['Pablo martinez', 'Juan Gonzalez']}\n"
     ]
    }
   ],
   "source": [
    "A = {\"Estatura\":[1.34,1.98], \"nombre\":[\"Pablo martinez\", \"Juan Gonzalez\"]} #Key debe ser un tipo str y Value debe ser una lista.\n",
    "print(type(A),A,sep='\\n')"
   ]
  },
  {
   "cell_type": "markdown",
   "metadata": {},
   "source": [
    "Ya que tenemos el `dict` usaremos `DataFrame` para convertirlo en un `DataFrame` y lo asignaremos a la misma variable"
   ]
  },
  {
   "cell_type": "code",
   "execution_count": 4,
   "metadata": {},
   "outputs": [
    {
     "data": {
      "text/html": [
       "<div>\n",
       "<style scoped>\n",
       "    .dataframe tbody tr th:only-of-type {\n",
       "        vertical-align: middle;\n",
       "    }\n",
       "\n",
       "    .dataframe tbody tr th {\n",
       "        vertical-align: top;\n",
       "    }\n",
       "\n",
       "    .dataframe thead th {\n",
       "        text-align: right;\n",
       "    }\n",
       "</style>\n",
       "<table border=\"1\" class=\"dataframe\">\n",
       "  <thead>\n",
       "    <tr style=\"text-align: right;\">\n",
       "      <th></th>\n",
       "      <th>Estatura</th>\n",
       "      <th>nombre</th>\n",
       "    </tr>\n",
       "  </thead>\n",
       "  <tbody>\n",
       "    <tr>\n",
       "      <th>0</th>\n",
       "      <td>1.34</td>\n",
       "      <td>Pablo martinez</td>\n",
       "    </tr>\n",
       "    <tr>\n",
       "      <th>1</th>\n",
       "      <td>1.98</td>\n",
       "      <td>Juan Gonzalez</td>\n",
       "    </tr>\n",
       "  </tbody>\n",
       "</table>\n",
       "</div>"
      ],
      "text/plain": [
       "   Estatura          nombre\n",
       "0      1.34  Pablo martinez\n",
       "1      1.98   Juan Gonzalez"
      ]
     },
     "execution_count": 4,
     "metadata": {},
     "output_type": "execute_result"
    }
   ],
   "source": [
    "A = pd.DataFrame(A)# Se convierte en un dataframe y se asigna a la misma variable\n",
    "A# Se muestra cómo luce el DataFrame en JupyterNotebook, usando terminal no se va a ver de la misma forma"
   ]
  },
  {
   "cell_type": "markdown",
   "metadata": {},
   "source": [
    "Veremos ahora un ejemplo de cómo se selecciona una columna en específico."
   ]
  },
  {
   "cell_type": "code",
   "execution_count": 5,
   "metadata": {},
   "outputs": [
    {
     "data": {
      "text/plain": [
       "0    Pablo martinez\n",
       "1     Juan Gonzalez\n",
       "Name: nombre, dtype: object"
      ]
     },
     "execution_count": 5,
     "metadata": {},
     "output_type": "execute_result"
    }
   ],
   "source": [
    "A['nombre']"
   ]
  },
  {
   "cell_type": "markdown",
   "metadata": {},
   "source": [
    "Una vez que vimos aspectos generales del `df` veremos cómo poblarlo con datos de estaturas usando listas por comprensión.\n",
    "Primero importaremos 2 bibliotecas necesarias para la población del `dataframe` y la presentación de estadísticas descriptivas."
   ]
  },
  {
   "cell_type": "code",
   "execution_count": 6,
   "metadata": {},
   "outputs": [],
   "source": [
    "import random #Generará números pseudoaleatorios para el marco de datos\n",
    "import matplotlib.pyplot as plt #Presentaremos gráficas de estadísticas."
   ]
  },
  {
   "cell_type": "markdown",
   "metadata": {},
   "source": [
    "La siguiente instrucción nos generará una muestra de una distribución Normal donde la media o $\\mu=1.6$ y la varianza es de $0.2$. Recordemos que poblaremos el `dataframe` con posibles estaturas, en este caso indicaría que la media de las estaturas es de $1.6$ metros."
   ]
  },
  {
   "cell_type": "code",
   "execution_count": 7,
   "metadata": {},
   "outputs": [
    {
     "data": {
      "text/plain": [
       "1.677398401013178"
      ]
     },
     "execution_count": 7,
     "metadata": {},
     "output_type": "execute_result"
    }
   ],
   "source": [
    "random.normalvariate(1.6, 0.2)"
   ]
  },
  {
   "cell_type": "markdown",
   "metadata": {},
   "source": [
    "Una vez que conocemos la instrucción para obtener una estatura, procederemos a poner estaturas en una lista con un formato específico para posteriormente hacer un `dataframe`. Como queremos 1000 mediciones o muestras, usaremos listas por comprensión para hacer la lista usando la instrucción anterior generar una estatura como `value` y la `key` del dicionario es `Estatura`. Lo anterior al tener que repetirse usaremos listas por comprensión, resultando así en:"
   ]
  },
  {
   "cell_type": "code",
   "execution_count": 8,
   "metadata": {},
   "outputs": [
    {
     "name": "stdout",
     "output_type": "stream",
     "text": [
      "[{'Estatura': 1.5499769989993617}, {'Estatura': 1.2286579829989825}, {'Estatura': 1.972348526941963}, {'Estatura': 1.4229946739740809}, {'Estatura': 1.462798641099166}, {'Estatura': 1.3538461513306022}, {'Estatura': 1.8205984367368164}, {'Estatura': 1.5308617963089959}, {'Estatura': 1.604908772870012}, {'Estatura': 1.5142432436934243}, {'Estatura': 1.3736836623021298}, {'Estatura': 1.4587266714319813}, {'Estatura': 1.4053420162582682}, {'Estatura': 1.6651667702167494}, {'Estatura': 1.8122173848804382}, {'Estatura': 2.025912965247007}, {'Estatura': 1.448353364749539}, {'Estatura': 1.6904763382860335}, {'Estatura': 1.3994244943359724}, {'Estatura': 1.2885765987686653}, {'Estatura': 1.5178298418955722}, {'Estatura': 1.3609978464157901}, {'Estatura': 1.6190449192446823}, {'Estatura': 1.629862643668907}, {'Estatura': 1.5930007801531412}, {'Estatura': 1.775716682654869}, {'Estatura': 1.4234639522724815}, {'Estatura': 1.372954346185167}, {'Estatura': 1.534898095720335}, {'Estatura': 1.7286002917977665}, {'Estatura': 1.450743984281598}, {'Estatura': 1.7797284909185338}, {'Estatura': 1.4355305863882273}, {'Estatura': 2.1067392819819575}, {'Estatura': 1.4781567579437642}, {'Estatura': 1.7467188540478122}, {'Estatura': 1.810668255330898}, {'Estatura': 1.48937713772535}, {'Estatura': 1.6643080798157652}, {'Estatura': 1.1976394379736386}, {'Estatura': 1.7904804284176354}, {'Estatura': 1.635560418058537}, {'Estatura': 1.6719587034468406}, {'Estatura': 1.5878544238885128}, {'Estatura': 1.628971953230392}, {'Estatura': 0.9252131039569995}, {'Estatura': 1.6204691993753668}, {'Estatura': 1.606111471225225}, {'Estatura': 1.9489084485728412}, {'Estatura': 1.8788804329723623}, {'Estatura': 1.55923000598138}, {'Estatura': 1.3621194824323282}, {'Estatura': 1.6604479228453717}, {'Estatura': 1.49597975286006}, {'Estatura': 1.4040836936090928}, {'Estatura': 1.5323312740332884}, {'Estatura': 1.5396485678447431}, {'Estatura': 1.6863368217103885}, {'Estatura': 1.8875854047291902}, {'Estatura': 1.5358528003032126}, {'Estatura': 1.3101146038912892}, {'Estatura': 1.55225159977397}, {'Estatura': 1.567472391058003}, {'Estatura': 1.7121604925709402}, {'Estatura': 1.477897111292825}, {'Estatura': 1.523480415514556}, {'Estatura': 1.1972950222683951}, {'Estatura': 1.921338780583146}, {'Estatura': 1.3422037780243523}, {'Estatura': 1.9678277761431588}, {'Estatura': 1.743303332020548}, {'Estatura': 1.92267369415934}, {'Estatura': 1.3459971140760971}, {'Estatura': 1.4230539753052278}, {'Estatura': 1.7789638837783817}, {'Estatura': 1.3738089556733992}, {'Estatura': 1.6409135883935286}, {'Estatura': 1.7503686719275011}, {'Estatura': 1.8439508310377963}, {'Estatura': 1.420100642071758}, {'Estatura': 1.5911612060590747}, {'Estatura': 1.6220517797691527}, {'Estatura': 1.5880758655155136}, {'Estatura': 1.5497426191842483}, {'Estatura': 1.400241594133325}, {'Estatura': 1.7577712540572574}, {'Estatura': 1.764567684188217}, {'Estatura': 1.5685100079489338}, {'Estatura': 1.5568221245431204}, {'Estatura': 1.505151323052057}, {'Estatura': 1.4881166616953325}, {'Estatura': 1.8247159021847161}, {'Estatura': 1.805521387758256}, {'Estatura': 1.6009292107119193}, {'Estatura': 2.0128827326810907}, {'Estatura': 1.7649636605329835}, {'Estatura': 1.2656381592611032}, {'Estatura': 2.1432515186075243}, {'Estatura': 1.2584254297193471}, {'Estatura': 1.6285232720419631}, {'Estatura': 1.1848635983671922}, {'Estatura': 1.7573148995957955}, {'Estatura': 1.4592765893066788}, {'Estatura': 1.7092779334917372}, {'Estatura': 1.7946125374199884}, {'Estatura': 1.476840014024063}, {'Estatura': 1.5049960630738097}, {'Estatura': 1.5233704447411849}, {'Estatura': 1.6572683398694283}, {'Estatura': 1.5652401950514843}, {'Estatura': 1.8435396451171457}, {'Estatura': 2.0065575736655403}, {'Estatura': 1.5737271682449046}, {'Estatura': 1.228454310590899}, {'Estatura': 1.5426369974152476}, {'Estatura': 1.830918019610768}, {'Estatura': 1.381722787332866}, {'Estatura': 1.682382842853832}, {'Estatura': 1.9971754878486492}, {'Estatura': 2.110290389013142}, {'Estatura': 1.55297204842784}, {'Estatura': 1.8432879949783427}, {'Estatura': 1.5745083588774778}, {'Estatura': 1.8367761944804348}, {'Estatura': 1.3503569198335506}, {'Estatura': 1.5254630652360592}, {'Estatura': 1.4562075321655532}, {'Estatura': 1.4687253623885017}, {'Estatura': 1.5070649519410584}, {'Estatura': 1.3877731041244006}, {'Estatura': 1.6575472827807216}, {'Estatura': 1.4514117818095262}, {'Estatura': 1.7589208108785108}, {'Estatura': 1.310159175577558}, {'Estatura': 1.4205183242717563}, {'Estatura': 1.640040158507349}, {'Estatura': 1.4468064736691553}, {'Estatura': 1.6047558576297547}, {'Estatura': 1.3312341679924946}, {'Estatura': 1.6224447665379411}, {'Estatura': 1.6432474080973742}, {'Estatura': 1.3501189196262717}, {'Estatura': 1.7380973072872872}, {'Estatura': 1.4826583589521758}, {'Estatura': 1.420083946301339}, {'Estatura': 1.7976888069456198}, {'Estatura': 1.5402438071673967}, {'Estatura': 1.6922973678196862}, {'Estatura': 1.5662421207813886}, {'Estatura': 1.4819030462716398}, {'Estatura': 1.8959289659400154}, {'Estatura': 1.7882512312262104}, {'Estatura': 1.7621106121569983}, {'Estatura': 1.6108185073812762}, {'Estatura': 1.0618977892243948}, {'Estatura': 1.849667663158551}, {'Estatura': 1.2501825430083942}, {'Estatura': 1.5133198216240897}, {'Estatura': 1.831600414500138}, {'Estatura': 1.8282356991800475}, {'Estatura': 1.5359597244944794}, {'Estatura': 1.4337828068588663}, {'Estatura': 1.3902693126050536}, {'Estatura': 1.6464908792631887}, {'Estatura': 1.690119789119348}, {'Estatura': 1.6226206195283914}, {'Estatura': 1.4513827633144512}, {'Estatura': 1.1827599015048298}, {'Estatura': 1.4113966633104489}, {'Estatura': 2.053383987762947}, {'Estatura': 1.8730385833319056}, {'Estatura': 1.7463486148896785}, {'Estatura': 1.453714952979389}, {'Estatura': 1.8610018780589406}, {'Estatura': 1.6664911145219738}, {'Estatura': 1.5396115934001273}, {'Estatura': 1.5387795502613761}, {'Estatura': 1.6632160478392377}, {'Estatura': 1.6699262920416318}, {'Estatura': 1.6963142932409967}, {'Estatura': 1.6737762411716233}, {'Estatura': 1.5520859841096728}, {'Estatura': 1.6067383240179647}, {'Estatura': 1.74180967990991}, {'Estatura': 1.7942515542499948}, {'Estatura': 1.9279597376850175}, {'Estatura': 1.8534167436048117}, {'Estatura': 1.4683265910580188}, {'Estatura': 1.8915312827063364}, {'Estatura': 1.4865931457814274}, {'Estatura': 1.3847516750808724}, {'Estatura': 1.5876744251479928}, {'Estatura': 1.7110559623227286}, {'Estatura': 1.6938649500737064}, {'Estatura': 1.4991251657676856}, {'Estatura': 1.6371258723142383}, {'Estatura': 1.6824547063359054}, {'Estatura': 1.629647646697822}, {'Estatura': 1.7614737657841326}, {'Estatura': 1.5695093992795293}, {'Estatura': 1.4229631571793362}, {'Estatura': 1.8862673133779941}, {'Estatura': 1.6601282089496585}, {'Estatura': 1.5693253905603586}, {'Estatura': 1.7413272150719035}, {'Estatura': 1.4456838082916788}, {'Estatura': 1.5021477919754767}, {'Estatura': 1.3624605560188563}, {'Estatura': 1.6472926180429548}, {'Estatura': 1.4267275276589368}, {'Estatura': 1.2954095420845664}, {'Estatura': 1.940521815297689}, {'Estatura': 1.8585393649795305}, {'Estatura': 1.5030317651964566}, {'Estatura': 1.3119826092613955}, {'Estatura': 1.9098297559359754}, {'Estatura': 1.6760014660716627}, {'Estatura': 1.6239761896178877}, {'Estatura': 1.411077426631203}, {'Estatura': 1.909851233952391}, {'Estatura': 1.83912864626864}, {'Estatura': 1.4954210449475946}, {'Estatura': 1.6886727989832022}, {'Estatura': 1.9816202136022514}, {'Estatura': 1.6290512561755648}, {'Estatura': 1.5350876378761553}, {'Estatura': 1.6549342637726794}, {'Estatura': 1.5454889153911233}, {'Estatura': 1.8892409981410292}, {'Estatura': 1.8691126008570593}, {'Estatura': 1.4583794677466801}, {'Estatura': 1.7931855717534022}, {'Estatura': 1.312940608211642}, {'Estatura': 1.5594862128321305}, {'Estatura': 1.6204953536477409}, {'Estatura': 1.7044689239010844}, {'Estatura': 1.6636195718816797}, {'Estatura': 1.5111305330443243}, {'Estatura': 1.6939969397790742}, {'Estatura': 1.7281387008335598}, {'Estatura': 1.6411550283131449}, {'Estatura': 1.6863437537688772}, {'Estatura': 1.145220123426456}, {'Estatura': 1.675564582114443}, {'Estatura': 2.5063326644969477}, {'Estatura': 1.48703551669194}, {'Estatura': 1.75336237118217}, {'Estatura': 1.2328435667242514}, {'Estatura': 1.532327121371989}, {'Estatura': 1.5939477805774795}, {'Estatura': 1.6485746453559047}, {'Estatura': 1.6864505196781545}, {'Estatura': 1.825088444492123}, {'Estatura': 1.707752013785246}, {'Estatura': 1.4781732823311036}, {'Estatura': 1.974897752373797}, {'Estatura': 2.0802457687440854}, {'Estatura': 1.6556388395385269}, {'Estatura': 1.5763471989892142}, {'Estatura': 1.2637068337902488}, {'Estatura': 1.424448132383168}, {'Estatura': 1.1174626193749129}, {'Estatura': 1.6265305757645476}, {'Estatura': 1.3758692769249605}, {'Estatura': 1.304647772659584}, {'Estatura': 1.7365164969849745}, {'Estatura': 1.8292381886529128}, {'Estatura': 1.6700143862211463}, {'Estatura': 1.7284370408348964}, {'Estatura': 1.6344573899447907}, {'Estatura': 1.7495073861535362}, {'Estatura': 1.729322174291875}, {'Estatura': 1.7482753274207847}, {'Estatura': 1.478558057760841}, {'Estatura': 1.4661787068168604}, {'Estatura': 1.4416031434623564}, {'Estatura': 1.1810606647600967}, {'Estatura': 1.7364725450008256}, {'Estatura': 1.178020821955815}, {'Estatura': 1.3718003741095985}, {'Estatura': 1.5864908705862755}, {'Estatura': 1.8231644501144881}, {'Estatura': 1.6012847656104616}, {'Estatura': 1.7503388535399318}, {'Estatura': 1.4518686986371971}, {'Estatura': 1.4573230381569693}, {'Estatura': 1.6887745901919113}, {'Estatura': 1.6254049846435168}, {'Estatura': 1.5956044989700902}, {'Estatura': 1.472674426624261}, {'Estatura': 1.8118369904364946}, {'Estatura': 1.5756467884233738}, {'Estatura': 1.4609286544829378}, {'Estatura': 1.70453664897235}, {'Estatura': 1.903032485007049}, {'Estatura': 1.330851840703087}, {'Estatura': 1.4613346389312096}, {'Estatura': 1.505683971347378}, {'Estatura': 1.7086473760212897}, {'Estatura': 1.585375114651806}, {'Estatura': 1.9666494841755782}, {'Estatura': 1.5445091044435075}, {'Estatura': 2.017299671098643}, {'Estatura': 1.4984966582122534}, {'Estatura': 1.6214415825584965}, {'Estatura': 1.9858262541587137}, {'Estatura': 2.1827626705458023}, {'Estatura': 1.9330601033418424}, {'Estatura': 1.6382932054565278}, {'Estatura': 1.480036040565959}, {'Estatura': 1.6555092421918414}, {'Estatura': 1.9695140977793895}, {'Estatura': 1.709111014946477}, {'Estatura': 1.5356317357562468}, {'Estatura': 1.5583606275562085}, {'Estatura': 1.5547544268344708}, {'Estatura': 1.3359043258218213}, {'Estatura': 1.2699907606791934}, {'Estatura': 1.5106727127556785}, {'Estatura': 1.550465005097967}, {'Estatura': 1.6069215637905707}, {'Estatura': 1.67765140572596}, {'Estatura': 1.7565586714297574}, {'Estatura': 1.7635311739864863}, {'Estatura': 1.3976410439234923}, {'Estatura': 1.1088477282141074}, {'Estatura': 1.9353769375431822}, {'Estatura': 1.6273075902989644}, {'Estatura': 1.8122339827987493}, {'Estatura': 1.565177196300298}, {'Estatura': 1.5117020510966006}, {'Estatura': 1.9503348855405396}, {'Estatura': 1.2004859157845291}, {'Estatura': 1.6387019137259005}, {'Estatura': 1.7582470017555738}, {'Estatura': 1.6672442450641698}, {'Estatura': 1.5677219035898597}, {'Estatura': 1.2150382588800113}, {'Estatura': 1.4817687300195224}, {'Estatura': 1.911162428903662}, {'Estatura': 1.5877884649144636}, {'Estatura': 1.2797067624228244}, {'Estatura': 1.6781588678321173}, {'Estatura': 1.7576749689557016}, {'Estatura': 1.7603761464759276}, {'Estatura': 1.783230105428539}, {'Estatura': 1.56103184618105}, {'Estatura': 1.5700111635002887}, {'Estatura': 1.2216226245779587}, {'Estatura': 1.5948412288138227}, {'Estatura': 1.6553779028746662}, {'Estatura': 1.6556665088649254}, {'Estatura': 1.5595627808056756}, {'Estatura': 1.8554421684593039}, {'Estatura': 1.451708366981006}, {'Estatura': 1.5638591203823673}, {'Estatura': 1.562396508818462}, {'Estatura': 1.4300071204280043}, {'Estatura': 1.5576172913104296}, {'Estatura': 1.597403849405792}, {'Estatura': 1.4561205349266428}, {'Estatura': 1.3781369932165983}, {'Estatura': 1.5810359793711057}, {'Estatura': 1.9168396374117957}, {'Estatura': 1.4848694523234554}, {'Estatura': 1.525191309196082}, {'Estatura': 1.788788629871911}, {'Estatura': 1.630354452161895}, {'Estatura': 1.9363044747496556}, {'Estatura': 1.7766712367337316}, {'Estatura': 1.400058651406557}, {'Estatura': 1.562619749887015}, {'Estatura': 1.778779691716569}, {'Estatura': 1.4718332129283536}, {'Estatura': 1.5265183911803855}, {'Estatura': 1.7151321542780351}, {'Estatura': 1.6666243640402651}, {'Estatura': 1.4093367064121358}, {'Estatura': 1.5914824875574656}, {'Estatura': 1.5548444756595627}, {'Estatura': 1.6939615390545557}, {'Estatura': 1.6936824361820348}, {'Estatura': 1.78061332157916}, {'Estatura': 1.6537551289276857}, {'Estatura': 1.615909172526345}, {'Estatura': 1.7923404337227673}, {'Estatura': 1.7225672889748904}, {'Estatura': 1.7578746026120935}, {'Estatura': 1.9538850485058878}, {'Estatura': 1.2927068592211977}, {'Estatura': 1.250577058848367}, {'Estatura': 1.3759836678187352}, {'Estatura': 1.7914851522311233}, {'Estatura': 1.500127335556707}, {'Estatura': 1.8561914974148253}, {'Estatura': 1.2961194336127966}, {'Estatura': 1.653148050414238}, {'Estatura': 1.64597565771705}, {'Estatura': 1.6207636703434667}, {'Estatura': 1.6263136486267538}, {'Estatura': 1.8007486375614343}, {'Estatura': 1.6264618754720983}, {'Estatura': 1.4873279163574835}, {'Estatura': 1.5024798613089247}, {'Estatura': 1.7153560777510963}, {'Estatura': 1.2121469577824335}, {'Estatura': 1.4471315730408933}, {'Estatura': 1.3684850123379022}, {'Estatura': 1.670245677630422}, {'Estatura': 1.8355561573507961}, {'Estatura': 1.5695261244578844}, {'Estatura': 1.7515541117960778}, {'Estatura': 1.8418550391431587}, {'Estatura': 1.571718035483502}, {'Estatura': 1.6491805121100942}, {'Estatura': 1.5921713009091998}, {'Estatura': 1.3186982984698303}, {'Estatura': 1.7564346323889568}, {'Estatura': 1.635357051267286}, {'Estatura': 1.7073429296685882}, {'Estatura': 1.6155278596498022}, {'Estatura': 1.646121062050419}, {'Estatura': 1.420838007896963}, {'Estatura': 1.6999093344333913}, {'Estatura': 1.8103996884628553}, {'Estatura': 1.8051691635304052}, {'Estatura': 1.6637975947419656}, {'Estatura': 1.7585248321352773}, {'Estatura': 1.4052612774239481}, {'Estatura': 1.5804309745526184}, {'Estatura': 1.3679877726047083}, {'Estatura': 1.693080804196068}, {'Estatura': 1.625990998055272}, {'Estatura': 1.539121200727124}, {'Estatura': 1.4524685182648356}, {'Estatura': 1.5577002542224332}, {'Estatura': 1.8096673419492264}, {'Estatura': 1.546205696647594}, {'Estatura': 1.679534489250199}, {'Estatura': 1.9684110273463011}, {'Estatura': 1.7547770136362777}, {'Estatura': 1.2671913497022382}, {'Estatura': 1.355557231885709}, {'Estatura': 1.5537945999547074}, {'Estatura': 1.4199026859322645}, {'Estatura': 1.5770404088349317}, {'Estatura': 1.850607054319991}, {'Estatura': 1.5210247114086601}, {'Estatura': 1.1907526272940387}, {'Estatura': 1.5045241946976435}, {'Estatura': 1.5476318085120702}, {'Estatura': 1.6884844822501273}, {'Estatura': 1.6751264269637451}, {'Estatura': 1.703549743888839}, {'Estatura': 1.9628821654741606}, {'Estatura': 1.3550303486199802}, {'Estatura': 1.797575332045863}, {'Estatura': 1.9194604609833856}, {'Estatura': 1.557557966453296}, {'Estatura': 1.5642240702606678}, {'Estatura': 1.9590288177956834}, {'Estatura': 1.7324729271771295}, {'Estatura': 2.142496304725662}, {'Estatura': 1.6267490720968323}, {'Estatura': 1.5489251919772196}, {'Estatura': 1.5380779945142689}, {'Estatura': 1.8586093784035753}, {'Estatura': 1.8839800744771527}, {'Estatura': 1.2039612041924959}, {'Estatura': 1.4148384518908064}, {'Estatura': 1.5671137895693679}, {'Estatura': 1.667887079307646}, {'Estatura': 1.5019752895336307}, {'Estatura': 1.953736864258952}, {'Estatura': 1.6442868393392107}, {'Estatura': 1.7171603797667518}, {'Estatura': 1.1626672625526537}, {'Estatura': 1.4377370963690024}, {'Estatura': 1.5904420218766695}, {'Estatura': 1.8390859016683212}, {'Estatura': 1.9026903590592272}, {'Estatura': 1.631880286752557}, {'Estatura': 1.798850748255947}, {'Estatura': 1.5324253209902439}, {'Estatura': 1.564872872853835}, {'Estatura': 1.6890666170698556}, {'Estatura': 1.7056695010362635}, {'Estatura': 1.908129050881822}, {'Estatura': 1.7706566941101407}, {'Estatura': 1.5462018026416509}, {'Estatura': 1.4423799911838087}, {'Estatura': 1.2569434196230047}, {'Estatura': 1.3958033380443626}, {'Estatura': 1.453171886972426}, {'Estatura': 1.3578786135446457}, {'Estatura': 1.4084591342263073}, {'Estatura': 1.8042820522386043}, {'Estatura': 1.4798658581712782}, {'Estatura': 1.5349060418544074}, {'Estatura': 1.7611231450888678}, {'Estatura': 1.4985737647256803}, {'Estatura': 1.5673500657291035}, {'Estatura': 1.6165621652846405}, {'Estatura': 1.697976042541656}, {'Estatura': 1.7058567194742147}, {'Estatura': 1.7493362540775717}, {'Estatura': 1.7005906090364422}, {'Estatura': 1.822181385528898}, {'Estatura': 1.609938892250038}, {'Estatura': 1.8325401127700012}, {'Estatura': 1.895933780521183}, {'Estatura': 1.436112382547413}, {'Estatura': 1.4746506621032873}, {'Estatura': 1.7687997657694234}, {'Estatura': 1.4918932703066197}, {'Estatura': 1.5888439717366172}, {'Estatura': 1.631787105360625}, {'Estatura': 1.7062325284318112}, {'Estatura': 1.8091909110607958}, {'Estatura': 1.4393212184799407}, {'Estatura': 1.5196792781498547}, {'Estatura': 1.634241601839054}, {'Estatura': 1.6936575054268626}, {'Estatura': 1.977189290577093}, {'Estatura': 1.4881082001100547}, {'Estatura': 1.229237731585944}, {'Estatura': 1.3408504221478261}, {'Estatura': 1.6530854438409732}, {'Estatura': 1.3984049641371834}, {'Estatura': 1.5449557921904022}, {'Estatura': 1.6842004709773404}, {'Estatura': 1.4466523857011637}, {'Estatura': 1.56889139043295}, {'Estatura': 1.6972577851027002}, {'Estatura': 1.7676960809701325}, {'Estatura': 1.8515649629558935}, {'Estatura': 1.6502320338055978}, {'Estatura': 1.6489568244400525}, {'Estatura': 1.4634067525635048}, {'Estatura': 1.6387884670475918}, {'Estatura': 1.8950808622024884}, {'Estatura': 1.6970874014376676}, {'Estatura': 1.5165626195593518}, {'Estatura': 1.402161333885731}, {'Estatura': 1.6707027113477344}, {'Estatura': 1.5441473436390054}, {'Estatura': 1.4866137370422532}, {'Estatura': 1.6328604722342177}, {'Estatura': 1.8181712033155475}, {'Estatura': 1.8073544551442662}, {'Estatura': 1.5073057316827403}, {'Estatura': 1.5504521108580909}, {'Estatura': 1.3542236760461253}, {'Estatura': 1.951800229765508}, {'Estatura': 1.498589994671074}, {'Estatura': 1.7626205608345735}, {'Estatura': 1.3143523851986445}, {'Estatura': 1.5935741858013048}, {'Estatura': 1.6696642281588083}, {'Estatura': 1.4298942213129955}, {'Estatura': 1.7572368730698125}, {'Estatura': 1.4107035057452595}, {'Estatura': 1.8190341972890713}, {'Estatura': 1.4199654027836068}, {'Estatura': 1.686604542155169}, {'Estatura': 1.7773637338775872}, {'Estatura': 1.373240132559547}, {'Estatura': 1.4036438946774004}, {'Estatura': 1.476485629915671}, {'Estatura': 1.626005508985135}, {'Estatura': 1.8087785498387585}, {'Estatura': 1.3002454785748414}, {'Estatura': 1.5997038726437864}, {'Estatura': 1.4499576670787395}, {'Estatura': 1.8687799611563416}, {'Estatura': 1.5288040471641149}, {'Estatura': 1.9838999927112524}, {'Estatura': 1.7170449914240584}, {'Estatura': 1.4216098451120394}, {'Estatura': 1.5506348955850746}, {'Estatura': 1.6156523729643193}, {'Estatura': 1.1841199432902727}, {'Estatura': 1.730856914391124}, {'Estatura': 1.6178318056410874}, {'Estatura': 1.4803035737134622}, {'Estatura': 1.8879364659868894}, {'Estatura': 1.5014627392306181}, {'Estatura': 1.6182512432863718}, {'Estatura': 1.6037521205687066}, {'Estatura': 2.0135772759540913}, {'Estatura': 1.623024515874722}, {'Estatura': 1.3953757741025967}, {'Estatura': 1.3440756027246668}, {'Estatura': 1.2968511470896544}, {'Estatura': 1.548396880395087}, {'Estatura': 1.4296630322147894}, {'Estatura': 1.6489559338989974}, {'Estatura': 1.8167026250494274}, {'Estatura': 1.8298150264642756}, {'Estatura': 1.8778050977141532}, {'Estatura': 1.591680133426915}, {'Estatura': 1.6553663315843548}, {'Estatura': 1.4820316296431675}, {'Estatura': 1.2204093431755358}, {'Estatura': 1.6940030924427507}, {'Estatura': 1.426412491536523}, {'Estatura': 1.56731249529734}, {'Estatura': 1.7496509888094267}, {'Estatura': 1.227488649621155}, {'Estatura': 1.3525366822403664}, {'Estatura': 1.8126536076183672}, {'Estatura': 1.4999375322974013}, {'Estatura': 1.7428802174736409}, {'Estatura': 1.4682571382316858}, {'Estatura': 1.477479129327078}, {'Estatura': 1.4437560462208063}, {'Estatura': 1.4319800742909552}, {'Estatura': 1.596071601438367}, {'Estatura': 1.6428332873517661}, {'Estatura': 1.6445552218444601}, {'Estatura': 1.3013383574121418}, {'Estatura': 1.4977337430950222}, {'Estatura': 1.884809085544492}, {'Estatura': 1.6704174119378192}, {'Estatura': 1.7867860844723904}, {'Estatura': 2.017419996514999}, {'Estatura': 1.668368382988998}, {'Estatura': 1.4008947367708096}, {'Estatura': 1.7215463251330916}, {'Estatura': 1.7072451843300243}, {'Estatura': 1.5763192874648895}, {'Estatura': 1.221985443835547}, {'Estatura': 2.039907086468198}, {'Estatura': 1.5072523065294718}, {'Estatura': 1.7079141742939954}, {'Estatura': 2.0677571859168973}, {'Estatura': 1.6566679166902978}, {'Estatura': 1.526431308597215}, {'Estatura': 1.9214737135254305}, {'Estatura': 1.362434383916613}, {'Estatura': 1.422430634083691}, {'Estatura': 1.8320060805151028}, {'Estatura': 1.739458487538292}, {'Estatura': 1.9195056697313753}, {'Estatura': 1.336174510944224}, {'Estatura': 1.7828274780461602}, {'Estatura': 1.692038640334831}, {'Estatura': 1.9828096660581116}, {'Estatura': 1.617222294300904}, {'Estatura': 1.3374376183224752}, {'Estatura': 1.7337733909764694}, {'Estatura': 1.6429802593183565}, {'Estatura': 1.9730601430679164}, {'Estatura': 1.3236078369179474}, {'Estatura': 1.99799318706898}, {'Estatura': 1.3670921743033824}, {'Estatura': 1.6966022972565955}, {'Estatura': 1.421907317140978}, {'Estatura': 1.7203946652405866}, {'Estatura': 2.0562091549480304}, {'Estatura': 1.51626801098062}, {'Estatura': 1.9841854691247656}, {'Estatura': 1.521601582775304}, {'Estatura': 1.8193982371132906}, {'Estatura': 1.8927617901514469}, {'Estatura': 1.668091473114043}, {'Estatura': 1.4464158375442355}, {'Estatura': 1.36609286531562}, {'Estatura': 1.5052594043649457}, {'Estatura': 1.7236265270875686}, {'Estatura': 1.4790635557026104}, {'Estatura': 1.9043638577400557}, {'Estatura': 1.6345539619087108}, {'Estatura': 1.5356616738977875}, {'Estatura': 1.8812817480774862}, {'Estatura': 1.5621762091217317}, {'Estatura': 1.6754566548712102}, {'Estatura': 1.7212678534126837}, {'Estatura': 1.6968219363155261}, {'Estatura': 1.811793169363999}, {'Estatura': 1.3553057408674727}, {'Estatura': 1.613570896995971}, {'Estatura': 1.7078967557818585}, {'Estatura': 1.8621963904592915}, {'Estatura': 1.447112904765159}, {'Estatura': 1.2442978317379658}, {'Estatura': 1.7059945119768407}, {'Estatura': 1.7368757483380848}, {'Estatura': 1.4534131097259073}, {'Estatura': 1.652966133506026}, {'Estatura': 1.5752022716776535}, {'Estatura': 1.4893339834295984}, {'Estatura': 1.6195747554180115}, {'Estatura': 1.3552586787221654}, {'Estatura': 1.9288164435966113}, {'Estatura': 1.4007887429705983}, {'Estatura': 1.7402476952570127}, {'Estatura': 1.3480419767263616}, {'Estatura': 1.6874749573817993}, {'Estatura': 1.6774420654419506}, {'Estatura': 1.5189905278425502}, {'Estatura': 1.76149300263324}, {'Estatura': 1.572864979883007}, {'Estatura': 1.5607588831816108}, {'Estatura': 1.4204147702508436}, {'Estatura': 1.3552648012837238}, {'Estatura': 1.4485039871683663}, {'Estatura': 1.4506506390468246}, {'Estatura': 1.6329694095066398}, {'Estatura': 1.2576922058490319}, {'Estatura': 1.5562275829619763}, {'Estatura': 1.4124177650777738}, {'Estatura': 1.63946447779218}, {'Estatura': 1.6666428811710117}, {'Estatura': 1.6960569607513678}, {'Estatura': 1.799331140777586}, {'Estatura': 1.4516462814819815}, {'Estatura': 1.398678058639363}, {'Estatura': 1.6389563298781509}, {'Estatura': 1.524588152508028}, {'Estatura': 1.6109775381093845}, {'Estatura': 1.7626399470051535}, {'Estatura': 1.4570142681265152}, {'Estatura': 1.6557027840159388}, {'Estatura': 1.6189241497108355}, {'Estatura': 1.7360539793524425}, {'Estatura': 1.5329022407320898}, {'Estatura': 1.713616939742423}, {'Estatura': 1.617140076250102}, {'Estatura': 1.4929871625649325}, {'Estatura': 1.7420009032998787}, {'Estatura': 1.4706811045645418}, {'Estatura': 1.7251574477855682}, {'Estatura': 1.7314959431257761}, {'Estatura': 1.7506772807708737}, {'Estatura': 1.6147643752857335}, {'Estatura': 1.584764068866897}, {'Estatura': 1.5619046754677668}, {'Estatura': 1.703291435994822}, {'Estatura': 1.7077669934083695}, {'Estatura': 1.4362700132454105}, {'Estatura': 1.6702756335020312}, {'Estatura': 1.156442934923136}, {'Estatura': 1.8224995326960687}, {'Estatura': 1.5905787341845687}, {'Estatura': 1.5903351537903245}, {'Estatura': 1.5484750867845254}, {'Estatura': 1.7054210221714625}, {'Estatura': 1.6894760991516549}, {'Estatura': 1.8393399439814506}, {'Estatura': 1.9918289547606618}, {'Estatura': 1.501910962184947}, {'Estatura': 1.4872490812835717}, {'Estatura': 1.73643348743165}, {'Estatura': 1.5788327399178705}, {'Estatura': 1.5364383602848808}, {'Estatura': 1.5837834067680576}, {'Estatura': 1.2398598775244805}, {'Estatura': 1.8823665406257546}, {'Estatura': 1.8153235901681024}, {'Estatura': 1.7091014189321454}, {'Estatura': 1.989954043437392}, {'Estatura': 2.168219000779263}, {'Estatura': 1.4173993522198471}, {'Estatura': 1.6772257055370694}, {'Estatura': 1.2367736476059543}, {'Estatura': 1.856449264929761}, {'Estatura': 1.9467502548037623}, {'Estatura': 1.5905949644243798}, {'Estatura': 1.8900641551440065}, {'Estatura': 1.380418400901731}, {'Estatura': 1.6317510734283807}, {'Estatura': 1.8371776889829112}, {'Estatura': 1.785063064282033}, {'Estatura': 1.8058102547926236}, {'Estatura': 1.8301699387387422}, {'Estatura': 1.8804463144258614}, {'Estatura': 1.6914219572057005}, {'Estatura': 1.7529385264879231}, {'Estatura': 1.5981751655951526}, {'Estatura': 1.903865145053667}, {'Estatura': 1.7591657317605836}, {'Estatura': 1.6551576729590276}, {'Estatura': 1.774740175301302}, {'Estatura': 1.7902746205137712}, {'Estatura': 1.2908472163798554}, {'Estatura': 1.6278132717493679}, {'Estatura': 1.7965331464385843}, {'Estatura': 1.7617597755892003}, {'Estatura': 1.1364906220727304}, {'Estatura': 1.658010127429107}, {'Estatura': 1.705651830006486}, {'Estatura': 1.707580709665471}, {'Estatura': 1.437455754156393}, {'Estatura': 2.11384412470067}, {'Estatura': 1.6130653724188175}, {'Estatura': 1.563919472983521}, {'Estatura': 1.5743099618991938}, {'Estatura': 1.8677181773286198}, {'Estatura': 1.8945266926309425}, {'Estatura': 1.5383933689265292}, {'Estatura': 1.7410909043784102}, {'Estatura': 1.6532173061278648}, {'Estatura': 1.6341314845052453}, {'Estatura': 1.743554979029505}, {'Estatura': 1.774305104056137}, {'Estatura': 1.4203123679024459}, {'Estatura': 1.5805411287660853}, {'Estatura': 1.4927701735609078}, {'Estatura': 1.5215465553338028}, {'Estatura': 1.8431026790158054}, {'Estatura': 1.5554708308403637}, {'Estatura': 1.7643597809421798}, {'Estatura': 1.1941560018618487}, {'Estatura': 1.6923007076078285}, {'Estatura': 1.443873032265747}, {'Estatura': 1.5362417624613522}, {'Estatura': 1.6605089656063814}, {'Estatura': 1.352553595888862}, {'Estatura': 1.5445639390442507}, {'Estatura': 1.6662950676516217}, {'Estatura': 1.5707042911290974}, {'Estatura': 1.4744081361827681}, {'Estatura': 1.7418293311303084}, {'Estatura': 1.5746927654667633}, {'Estatura': 1.9807884017674773}, {'Estatura': 1.54917376203436}, {'Estatura': 1.5629475691208956}, {'Estatura': 1.7023055979483397}, {'Estatura': 1.6684903133738593}, {'Estatura': 1.6241422395089093}, {'Estatura': 1.7903723417335868}, {'Estatura': 1.976585153509169}, {'Estatura': 1.394768212675921}, {'Estatura': 1.4879580385123519}, {'Estatura': 1.688033152864449}, {'Estatura': 1.6398588491809076}, {'Estatura': 1.6381438701663118}, {'Estatura': 1.326045155594462}, {'Estatura': 1.5015280891269567}, {'Estatura': 1.829186602143448}, {'Estatura': 1.6292650385902674}, {'Estatura': 1.6596348449029381}, {'Estatura': 1.7768363987069713}, {'Estatura': 1.4140022861893722}, {'Estatura': 1.6081649565076952}, {'Estatura': 1.4895174680756151}, {'Estatura': 1.6749473329647195}, {'Estatura': 1.487156796522914}, {'Estatura': 1.3930089336905733}, {'Estatura': 1.5756321827799091}, {'Estatura': 1.5432180541467162}, {'Estatura': 1.5902932316035707}, {'Estatura': 1.7958340039787737}, {'Estatura': 1.252864240307664}, {'Estatura': 1.592860945808087}, {'Estatura': 1.3602338220496133}, {'Estatura': 1.1952603035257046}, {'Estatura': 1.770152249432011}, {'Estatura': 1.3862957920797996}, {'Estatura': 1.4852747213505577}, {'Estatura': 1.6828106356177166}, {'Estatura': 1.361269654289278}, {'Estatura': 1.6354968030941799}, {'Estatura': 1.804712673253266}, {'Estatura': 1.8154185536376037}, {'Estatura': 1.7863310585717245}, {'Estatura': 1.5673629355707486}, {'Estatura': 1.6555798080826936}, {'Estatura': 1.7767674333327237}, {'Estatura': 1.428298772459351}, {'Estatura': 1.5407463117356521}, {'Estatura': 1.5035296277230694}, {'Estatura': 1.3444779542345895}, {'Estatura': 1.30644164554532}, {'Estatura': 1.7005167672572965}, {'Estatura': 1.8169170188735366}, {'Estatura': 1.3389035790063246}, {'Estatura': 1.7542034021471644}, {'Estatura': 1.4891041414342792}, {'Estatura': 1.8375487651220401}, {'Estatura': 2.0280559723371416}, {'Estatura': 1.6790579578975606}, {'Estatura': 1.6500284994164978}, {'Estatura': 1.6816296816077625}, {'Estatura': 1.5863236885133134}, {'Estatura': 1.2948687309292461}, {'Estatura': 1.6762154328178838}, {'Estatura': 1.466328412085066}, {'Estatura': 1.4042958570517234}, {'Estatura': 1.667661214131094}, {'Estatura': 1.5592195851655228}, {'Estatura': 1.2863668231893777}, {'Estatura': 1.5559671374531763}, {'Estatura': 0.9368237514278909}, {'Estatura': 1.3566607737640568}, {'Estatura': 1.7033917360154107}, {'Estatura': 1.4054470967560433}, {'Estatura': 1.400082348028994}, {'Estatura': 1.8971536245147629}, {'Estatura': 1.6183384889675019}, {'Estatura': 1.5124226452220713}, {'Estatura': 1.3608789308757063}, {'Estatura': 1.8678266060672222}, {'Estatura': 1.6893038799415243}, {'Estatura': 1.6997821251169836}, {'Estatura': 1.84099148586593}, {'Estatura': 1.8036365749553194}, {'Estatura': 1.6545586603743174}, {'Estatura': 1.5473743736648862}, {'Estatura': 2.041808911533658}, {'Estatura': 1.8581525629879654}, {'Estatura': 1.7081113389431366}, {'Estatura': 1.4680724309112305}, {'Estatura': 1.6414765610515527}, {'Estatura': 1.64476589232418}, {'Estatura': 1.548233643936236}, {'Estatura': 1.3843227490229526}, {'Estatura': 1.9962596820430216}, {'Estatura': 1.8696163271025983}, {'Estatura': 1.4400070952764141}, {'Estatura': 1.5119530922241224}, {'Estatura': 1.6221265441416108}, {'Estatura': 1.3034425486885086}, {'Estatura': 1.6013798267279198}, {'Estatura': 1.6634640106311702}, {'Estatura': 1.5391814165681157}, {'Estatura': 1.5466812977944997}, {'Estatura': 1.7420787382978449}, {'Estatura': 1.6800859535642467}, {'Estatura': 1.2614297756986443}, {'Estatura': 1.6053412170795982}, {'Estatura': 1.8466448375146993}, {'Estatura': 1.9539293834920173}, {'Estatura': 1.7206024794301615}, {'Estatura': 1.7717589103428508}, {'Estatura': 1.8363969232419142}, {'Estatura': 1.6489129338256914}, {'Estatura': 1.5256335719495768}, {'Estatura': 1.6649995949427734}, {'Estatura': 1.746043659740174}, {'Estatura': 1.7457534429585073}, {'Estatura': 1.7091666428133987}, {'Estatura': 1.621446868005273}, {'Estatura': 1.5091020918794789}, {'Estatura': 1.307489383894136}, {'Estatura': 1.6568178710479762}, {'Estatura': 1.606434630514648}, {'Estatura': 1.1521117364686597}, {'Estatura': 1.578513244410128}, {'Estatura': 1.9365880643183924}, {'Estatura': 1.406735064650578}, {'Estatura': 2.0979201660708604}, {'Estatura': 1.6773847761420209}, {'Estatura': 1.7872008235966672}, {'Estatura': 1.322552939116068}, {'Estatura': 1.50112994418634}, {'Estatura': 1.4055771898261908}, {'Estatura': 1.9130734252484318}, {'Estatura': 1.6580276419643318}, {'Estatura': 1.6655148431692457}, {'Estatura': 1.4334233619925527}, {'Estatura': 1.2753502556736676}, {'Estatura': 1.5218331764921187}, {'Estatura': 1.7586880807373129}, {'Estatura': 1.7419424436751472}, {'Estatura': 1.116312249166541}, {'Estatura': 1.4533585936156332}, {'Estatura': 1.5657532942694403}, {'Estatura': 1.3896979501335054}, {'Estatura': 1.75365340708724}, {'Estatura': 1.3060972013521401}, {'Estatura': 1.7592780739429768}, {'Estatura': 1.5811495679397602}, {'Estatura': 1.5918662477917633}, {'Estatura': 1.4368153023435526}, {'Estatura': 1.625770659286702}, {'Estatura': 1.895253065203207}, {'Estatura': 1.661511474461645}, {'Estatura': 2.0091537312690164}, {'Estatura': 1.7205616533662487}, {'Estatura': 1.7882335754197742}, {'Estatura': 1.528237971491194}, {'Estatura': 1.457694004180043}, {'Estatura': 1.6717944608912858}, {'Estatura': 1.7087151879025724}, {'Estatura': 1.5858898230639857}, {'Estatura': 1.6155059190238716}, {'Estatura': 1.6706705668663977}, {'Estatura': 2.1104738346967995}, {'Estatura': 2.0878936387301343}, {'Estatura': 1.3584667159533097}, {'Estatura': 1.5112332193230078}, {'Estatura': 1.6535994800112865}, {'Estatura': 1.746501312595047}, {'Estatura': 1.5804026888502938}, {'Estatura': 1.5527554232461647}, {'Estatura': 1.5869317844790118}, {'Estatura': 1.823254679862673}, {'Estatura': 1.577165552343321}]\n"
     ]
    }
   ],
   "source": [
    "P = [{'Estatura': random.normalvariate(1.6, 0.2)} for i in range(1000)]\n",
    "print(P)"
   ]
  },
  {
   "cell_type": "markdown",
   "metadata": {},
   "source": [
    "Una vez que tenemos el formato requerido, lo transformaremos a un marco de datos usando `pd.DataFrame()`"
   ]
  },
  {
   "cell_type": "code",
   "execution_count": 9,
   "metadata": {},
   "outputs": [
    {
     "data": {
      "text/html": [
       "<div>\n",
       "<style scoped>\n",
       "    .dataframe tbody tr th:only-of-type {\n",
       "        vertical-align: middle;\n",
       "    }\n",
       "\n",
       "    .dataframe tbody tr th {\n",
       "        vertical-align: top;\n",
       "    }\n",
       "\n",
       "    .dataframe thead th {\n",
       "        text-align: right;\n",
       "    }\n",
       "</style>\n",
       "<table border=\"1\" class=\"dataframe\">\n",
       "  <thead>\n",
       "    <tr style=\"text-align: right;\">\n",
       "      <th></th>\n",
       "      <th>Estatura</th>\n",
       "    </tr>\n",
       "  </thead>\n",
       "  <tbody>\n",
       "    <tr>\n",
       "      <th>0</th>\n",
       "      <td>1.549977</td>\n",
       "    </tr>\n",
       "    <tr>\n",
       "      <th>1</th>\n",
       "      <td>1.228658</td>\n",
       "    </tr>\n",
       "    <tr>\n",
       "      <th>2</th>\n",
       "      <td>1.972349</td>\n",
       "    </tr>\n",
       "    <tr>\n",
       "      <th>3</th>\n",
       "      <td>1.422995</td>\n",
       "    </tr>\n",
       "    <tr>\n",
       "      <th>4</th>\n",
       "      <td>1.462799</td>\n",
       "    </tr>\n",
       "    <tr>\n",
       "      <th>...</th>\n",
       "      <td>...</td>\n",
       "    </tr>\n",
       "    <tr>\n",
       "      <th>995</th>\n",
       "      <td>1.580403</td>\n",
       "    </tr>\n",
       "    <tr>\n",
       "      <th>996</th>\n",
       "      <td>1.552755</td>\n",
       "    </tr>\n",
       "    <tr>\n",
       "      <th>997</th>\n",
       "      <td>1.586932</td>\n",
       "    </tr>\n",
       "    <tr>\n",
       "      <th>998</th>\n",
       "      <td>1.823255</td>\n",
       "    </tr>\n",
       "    <tr>\n",
       "      <th>999</th>\n",
       "      <td>1.577166</td>\n",
       "    </tr>\n",
       "  </tbody>\n",
       "</table>\n",
       "<p>1000 rows × 1 columns</p>\n",
       "</div>"
      ],
      "text/plain": [
       "     Estatura\n",
       "0    1.549977\n",
       "1    1.228658\n",
       "2    1.972349\n",
       "3    1.422995\n",
       "4    1.462799\n",
       "..        ...\n",
       "995  1.580403\n",
       "996  1.552755\n",
       "997  1.586932\n",
       "998  1.823255\n",
       "999  1.577166\n",
       "\n",
       "[1000 rows x 1 columns]"
      ]
     },
     "execution_count": 9,
     "metadata": {},
     "output_type": "execute_result"
    }
   ],
   "source": [
    "P = pd.DataFrame(P)\n",
    "P"
   ]
  },
  {
   "cell_type": "markdown",
   "metadata": {},
   "source": [
    "Ya tenemos el `dataframe`, ahora procederemos a ver un histograma de las estaturas de los datos que tenemos, para eso usaremos `P['Estatura']`, pues es la columna que tiene esa información."
   ]
  },
  {
   "cell_type": "code",
   "execution_count": 32,
   "metadata": {},
   "outputs": [
    {
     "data": {
      "text/plain": [
       "(array([ 2.,  0.,  0.,  1.,  3.,  4., 12., 13., 14., 21., 29., 35., 54.,\n",
       "        57., 64., 74., 83., 75., 91., 80., 54., 58., 47., 33., 29., 17.,\n",
       "        22., 11.,  5.,  6.,  3.,  2.,  0.,  0.,  0.,  0.,  0.,  0.,  0.,\n",
       "         1.]),\n",
       " array([0.9252131 , 0.96474109, 1.00426908, 1.04379707, 1.08332506,\n",
       "        1.12285305, 1.16238104, 1.20190903, 1.24143702, 1.28096501,\n",
       "        1.32049299, 1.36002098, 1.39954897, 1.43907696, 1.47860495,\n",
       "        1.51813294, 1.55766093, 1.59718892, 1.63671691, 1.6762449 ,\n",
       "        1.71577288, 1.75530087, 1.79482886, 1.83435685, 1.87388484,\n",
       "        1.91341283, 1.95294082, 1.99246881, 2.0319968 , 2.07152479,\n",
       "        2.11105277, 2.15058076, 2.19010875, 2.22963674, 2.26916473,\n",
       "        2.30869272, 2.34822071, 2.3877487 , 2.42727669, 2.46680468,\n",
       "        2.50633266]),\n",
       " <BarContainer object of 40 artists>)"
      ]
     },
     "execution_count": 32,
     "metadata": {},
     "output_type": "execute_result"
    },
    {
     "data": {
      "image/png": "[encoded data removed]",
      "text/plain": [
       "<Figure size 640x480 with 1 Axes>"
      ]
     },
     "metadata": {},
     "output_type": "display_data"
    }
   ],
   "source": [
    "fig, ax = plt.subplots()\n",
    "ax.set_facecolor('#EBEBEB')\n",
    "plt.grid()\n",
    "plt.hist(P['Estatura'],bins=40, color='lightseagreen')#indigo"
   ]
  },
  {
   "cell_type": "markdown",
   "metadata": {},
   "source": [
    "La gráfica es informativa, pero si queremos que sea más estética usaremos la biblioteca `Seaborn` para esa tarea, pues además tiene más opciones visuales para análisis de datos."
   ]
  },
  {
   "cell_type": "code",
   "execution_count": 17,
   "metadata": {},
   "outputs": [],
   "source": [
    "import seaborn as sns"
   ]
  },
  {
   "cell_type": "markdown",
   "metadata": {},
   "source": [
    "Usaremos el comando `sns.histplot()` donde el argumento `data` debe ser llenado con nuesto `dataframe` con identificador `P` y el argumento `x` corresponde a la cadena del nombre de la columna de la cual queremos obtener el histograma. El argumento `kde` si es `True` grafica la estimación de la densidad del kernel."
   ]
  },
  {
   "cell_type": "code",
   "execution_count": 43,
   "metadata": {},
   "outputs": [
    {
     "data": {
      "text/plain": [
       "<Axes: xlabel='Estatura', ylabel='Count'>"
      ]
     },
     "execution_count": 43,
     "metadata": {},
     "output_type": "execute_result"
    },
    {
     "data": {
      "image/png": "[encoded data removed]",
      "text/plain": [
       "<Figure size 640x480 with 1 Axes>"
      ]
     },
     "metadata": {},
     "output_type": "display_data"
    }
   ],
   "source": [
    "sns.histplot(data=P,x='Estatura', color='darkmagenta',kde=True)"
   ]
  },
  {
   "cell_type": "code",
   "execution_count": 19,
   "metadata": {},
   "outputs": [
    {
     "name": "stdout",
     "output_type": "stream",
     "text": [
      "Help on function histplot in module seaborn.distributions:\n",
      "\n",
      "histplot(data=None, *, x=None, y=None, hue=None, weights=None, stat='count', bins='auto', binwidth=None, binrange=None, discrete=None, cumulative=False, common_bins=True, common_norm=True, multiple='layer', element='bars', fill=True, shrink=1, kde=False, kde_kws=None, line_kws=None, thresh=0, pthresh=None, pmax=None, cbar=False, cbar_ax=None, cbar_kws=None, palette=None, hue_order=None, hue_norm=None, color=None, log_scale=None, legend=True, ax=None, **kwargs)\n",
      "    Plot univariate or bivariate histograms to show distributions of datasets.\n",
      "\n",
      "    A histogram is a classic visualization tool that represents the distribution\n",
      "    of one or more variables by counting the number of observations that fall within\n",
      "    discrete bins.\n",
      "\n",
      "    This function can normalize the statistic computed within each bin to estimate\n",
      "    frequency, density or probability mass, and it can add a smooth curve obtained\n",
      "    using a kernel density estimate, similar to :func:`kdeplot`.\n",
      "\n",
      "    More information is provided in the :ref:`user guide <tutorial_hist>`.\n",
      "\n",
      "    Parameters\n",
      "    ----------\n",
      "    data : :class:`pandas.DataFrame`, :class:`numpy.ndarray`, mapping, or sequence\n",
      "        Input data structure. Either a long-form collection of vectors that can be\n",
      "        assigned to named variables or a wide-form dataset that will be internally\n",
      "        reshaped.\n",
      "    x, y : vectors or keys in ``data``\n",
      "        Variables that specify positions on the x and y axes.\n",
      "    hue : vector or key in ``data``\n",
      "        Semantic variable that is mapped to determine the color of plot elements.\n",
      "    weights : vector or key in ``data``\n",
      "        If provided, weight the contribution of the corresponding data points\n",
      "        towards the count in each bin by these factors.\n",
      "    stat : str\n",
      "        Aggregate statistic to compute in each bin.\n",
      "\n",
      "        - `count`: show the number of observations in each bin\n",
      "        - `frequency`: show the number of observations divided by the bin width\n",
      "        - `probability` or `proportion`: normalize such that bar heights sum to 1\n",
      "        - `percent`: normalize such that bar heights sum to 100\n",
      "        - `density`: normalize such that the total area of the histogram equals 1\n",
      "    bins : str, number, vector, or a pair of such values\n",
      "        Generic bin parameter that can be the name of a reference rule,\n",
      "        the number of bins, or the breaks of the bins.\n",
      "        Passed to :func:`numpy.histogram_bin_edges`.\n",
      "    binwidth : number or pair of numbers\n",
      "        Width of each bin, overrides ``bins`` but can be used with\n",
      "        ``binrange``.\n",
      "    binrange : pair of numbers or a pair of pairs\n",
      "        Lowest and highest value for bin edges; can be used either\n",
      "        with ``bins`` or ``binwidth``. Defaults to data extremes.\n",
      "    discrete : bool\n",
      "        If True, default to ``binwidth=1`` and draw the bars so that they are\n",
      "        centered on their corresponding data points. This avoids \"gaps\" that may\n",
      "        otherwise appear when using discrete (integer) data.\n",
      "    cumulative : bool\n",
      "        If True, plot the cumulative counts as bins increase.\n",
      "    common_bins : bool\n",
      "        If True, use the same bins when semantic variables produce multiple\n",
      "        plots. If using a reference rule to determine the bins, it will be computed\n",
      "        with the full dataset.\n",
      "    common_norm : bool\n",
      "        If True and using a normalized statistic, the normalization will apply over\n",
      "        the full dataset. Otherwise, normalize each histogram independently.\n",
      "    multiple : {\"layer\", \"dodge\", \"stack\", \"fill\"}\n",
      "        Approach to resolving multiple elements when semantic mapping creates subsets.\n",
      "        Only relevant with univariate data.\n",
      "    element : {\"bars\", \"step\", \"poly\"}\n",
      "        Visual representation of the histogram statistic.\n",
      "        Only relevant with univariate data.\n",
      "    fill : bool\n",
      "        If True, fill in the space under the histogram.\n",
      "        Only relevant with univariate data.\n",
      "    shrink : number\n",
      "        Scale the width of each bar relative to the binwidth by this factor.\n",
      "        Only relevant with univariate data.\n",
      "    kde : bool\n",
      "        If True, compute a kernel density estimate to smooth the distribution\n",
      "        and show on the plot as (one or more) line(s).\n",
      "        Only relevant with univariate data.\n",
      "    kde_kws : dict\n",
      "        Parameters that control the KDE computation, as in :func:`kdeplot`.\n",
      "    line_kws : dict\n",
      "        Parameters that control the KDE visualization, passed to\n",
      "        :meth:`matplotlib.axes.Axes.plot`.\n",
      "    thresh : number or None\n",
      "        Cells with a statistic less than or equal to this value will be transparent.\n",
      "        Only relevant with bivariate data.\n",
      "    pthresh : number or None\n",
      "        Like ``thresh``, but a value in [0, 1] such that cells with aggregate counts\n",
      "        (or other statistics, when used) up to this proportion of the total will be\n",
      "        transparent.\n",
      "    pmax : number or None\n",
      "        A value in [0, 1] that sets that saturation point for the colormap at a value\n",
      "        such that cells below constitute this proportion of the total count (or\n",
      "        other statistic, when used).\n",
      "    cbar : bool\n",
      "        If True, add a colorbar to annotate the color mapping in a bivariate plot.\n",
      "        Note: Does not currently support plots with a ``hue`` variable well.\n",
      "    cbar_ax : :class:`matplotlib.axes.Axes`\n",
      "        Pre-existing axes for the colorbar.\n",
      "    cbar_kws : dict\n",
      "        Additional parameters passed to :meth:`matplotlib.figure.Figure.colorbar`.\n",
      "    palette : string, list, dict, or :class:`matplotlib.colors.Colormap`\n",
      "        Method for choosing the colors to use when mapping the ``hue`` semantic.\n",
      "        String values are passed to :func:`color_palette`. List or dict values\n",
      "        imply categorical mapping, while a colormap object implies numeric mapping.\n",
      "    hue_order : vector of strings\n",
      "        Specify the order of processing and plotting for categorical levels of the\n",
      "        ``hue`` semantic.\n",
      "    hue_norm : tuple or :class:`matplotlib.colors.Normalize`\n",
      "        Either a pair of values that set the normalization range in data units\n",
      "        or an object that will map from data units into a [0, 1] interval. Usage\n",
      "        implies numeric mapping.\n",
      "    color : :mod:`matplotlib color <matplotlib.colors>`\n",
      "        Single color specification for when hue mapping is not used. Otherwise, the\n",
      "        plot will try to hook into the matplotlib property cycle.\n",
      "    log_scale : bool or number, or pair of bools or numbers\n",
      "        Set axis scale(s) to log. A single value sets the data axis for any numeric\n",
      "        axes in the plot. A pair of values sets each axis independently.\n",
      "        Numeric values are interpreted as the desired base (default 10).\n",
      "        When `None` or `False`, seaborn defers to the existing Axes scale.\n",
      "    legend : bool\n",
      "        If False, suppress the legend for semantic variables.\n",
      "    ax : :class:`matplotlib.axes.Axes`\n",
      "        Pre-existing axes for the plot. Otherwise, call :func:`matplotlib.pyplot.gca`\n",
      "        internally.\n",
      "    kwargs\n",
      "        Other keyword arguments are passed to one of the following matplotlib\n",
      "        functions:\n",
      "\n",
      "        - :meth:`matplotlib.axes.Axes.bar` (univariate, element=\"bars\")\n",
      "        - :meth:`matplotlib.axes.Axes.fill_between` (univariate, other element, fill=True)\n",
      "        - :meth:`matplotlib.axes.Axes.plot` (univariate, other element, fill=False)\n",
      "        - :meth:`matplotlib.axes.Axes.pcolormesh` (bivariate)\n",
      "\n",
      "    Returns\n",
      "    -------\n",
      "    :class:`matplotlib.axes.Axes`\n",
      "        The matplotlib axes containing the plot.\n",
      "\n",
      "    See Also\n",
      "    --------\n",
      "    displot : Figure-level interface to distribution plot functions.\n",
      "    kdeplot : Plot univariate or bivariate distributions using kernel density estimation.\n",
      "    rugplot : Plot a tick at each observation value along the x and/or y axes.\n",
      "    ecdfplot : Plot empirical cumulative distribution functions.\n",
      "    jointplot : Draw a bivariate plot with univariate marginal distributions.\n",
      "\n",
      "    Notes\n",
      "    -----\n",
      "\n",
      "    The choice of bins for computing and plotting a histogram can exert\n",
      "    substantial influence on the insights that one is able to draw from the\n",
      "    visualization. If the bins are too large, they may erase important features.\n",
      "    On the other hand, bins that are too small may be dominated by random\n",
      "    variability, obscuring the shape of the true underlying distribution. The\n",
      "    default bin size is determined using a reference rule that depends on the\n",
      "    sample size and variance. This works well in many cases, (i.e., with\n",
      "    \"well-behaved\" data) but it fails in others. It is always a good to try\n",
      "    different bin sizes to be sure that you are not missing something important.\n",
      "    This function allows you to specify bins in several different ways, such as\n",
      "    by setting the total number of bins to use, the width of each bin, or the\n",
      "    specific locations where the bins should break.\n",
      "\n",
      "    Examples\n",
      "    --------\n",
      "\n",
      "    .. include:: ../docstrings/histplot.rst\n",
      "\n"
     ]
    }
   ],
   "source": [
    "help(sns.histplot)"
   ]
  }
 ],
 "metadata": {
  "kernelspec": {
   "display_name": "Python 3",
   "language": "python",
   "name": "python3"
  },
  "language_info": {
   "codemirror_mode": {
    "name": "ipython",
    "version": 3
   },
   "file_extension": ".py",
   "mimetype": "text/x-python",
   "name": "python",
   "nbconvert_exporter": "python",
   "pygments_lexer": "ipython3",
   "version": "3.12.5"
  }
 },
 "nbformat": 4,
 "nbformat_minor": 2
}
