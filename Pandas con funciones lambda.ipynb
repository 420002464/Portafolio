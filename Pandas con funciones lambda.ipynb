{
 "cells": [
  {
   "cell_type": "markdown",
   "metadata": {},
   "source": [
    "# Pandas con funciones Lambda\n",
    "Recordando el archivo `eliminador de archivos.ipynb`, adaptaremos esa función para un archivo `.csv` usando la biblioteca `Pandas`. El archivo `.csv` se llama `csv para censurar.csv`, el cual tiene dos campos: `id` y `nombre`. El archivo se encuentra en el directorio `./otros`.\n",
    "\n",
    "Para empezar con el programa primero importaremos la biblioteca antes mencionada."
   ]
  },
  {
   "cell_type": "code",
   "execution_count": 1,
   "metadata": {},
   "outputs": [],
   "source": [
    "import pandas as pd"
   ]
  },
  {
   "cell_type": "markdown",
   "metadata": {},
   "source": [
    "Una vez importado pandas leeremos el archivo `.csv` para trabajarlo como un `data frame`.\n",
    "\n",
    "Al `data frame` lo asignaremos a la variable `df` (un nombre estándar en este contexto).\n",
    "Veremos el tipo de dato que es `df`.\n",
    "Por último veremos algunos registros de todo el marco de datos."
   ]
  },
  {
   "cell_type": "code",
   "execution_count": 2,
   "metadata": {},
   "outputs": [
    {
     "name": "stdout",
     "output_type": "stream",
     "text": [
      "<class 'pandas.core.frame.DataFrame'>\n"
     ]
    },
    {
     "data": {
      "text/html": [
       "<div>\n",
       "<style scoped>\n",
       "    .dataframe tbody tr th:only-of-type {\n",
       "        vertical-align: middle;\n",
       "    }\n",
       "\n",
       "    .dataframe tbody tr th {\n",
       "        vertical-align: top;\n",
       "    }\n",
       "\n",
       "    .dataframe thead th {\n",
       "        text-align: right;\n",
       "    }\n",
       "</style>\n",
       "<table border=\"1\" class=\"dataframe\">\n",
       "  <thead>\n",
       "    <tr style=\"text-align: right;\">\n",
       "      <th></th>\n",
       "      <th>id</th>\n",
       "      <th>nombre</th>\n",
       "    </tr>\n",
       "  </thead>\n",
       "  <tbody>\n",
       "    <tr>\n",
       "      <th>0</th>\n",
       "      <td>123456789</td>\n",
       "      <td>Juan Pérez García</td>\n",
       "    </tr>\n",
       "    <tr>\n",
       "      <th>1</th>\n",
       "      <td>987654321</td>\n",
       "      <td>Ana Martínez López</td>\n",
       "    </tr>\n",
       "    <tr>\n",
       "      <th>2</th>\n",
       "      <td>234567890</td>\n",
       "      <td>Carlos González Fernández</td>\n",
       "    </tr>\n",
       "    <tr>\n",
       "      <th>3</th>\n",
       "      <td>678901234</td>\n",
       "      <td>Maria Rodríguez Sánchez</td>\n",
       "    </tr>\n",
       "    <tr>\n",
       "      <th>4</th>\n",
       "      <td>345678901</td>\n",
       "      <td>Pedro Sánchez Romero</td>\n",
       "    </tr>\n",
       "    <tr>\n",
       "      <th>5</th>\n",
       "      <td>456789012</td>\n",
       "      <td>Luis Fernández Gómez</td>\n",
       "    </tr>\n",
       "    <tr>\n",
       "      <th>6</th>\n",
       "      <td>567890123</td>\n",
       "      <td>Elena Gómez Hernández</td>\n",
       "    </tr>\n",
       "    <tr>\n",
       "      <th>7</th>\n",
       "      <td>890123456</td>\n",
       "      <td>Marta Ruiz Jiménez</td>\n",
       "    </tr>\n",
       "    <tr>\n",
       "      <th>8</th>\n",
       "      <td>901234567</td>\n",
       "      <td>Daniel Moreno Vázquez</td>\n",
       "    </tr>\n",
       "    <tr>\n",
       "      <th>9</th>\n",
       "      <td>210987654</td>\n",
       "      <td>Lucía Jiménez Castro</td>\n",
       "    </tr>\n",
       "    <tr>\n",
       "      <th>10</th>\n",
       "      <td>320987654</td>\n",
       "      <td>Raúl Díaz Ortiz</td>\n",
       "    </tr>\n",
       "  </tbody>\n",
       "</table>\n",
       "</div>"
      ],
      "text/plain": [
       "           id                     nombre\n",
       "0   123456789          Juan Pérez García\n",
       "1   987654321         Ana Martínez López\n",
       "2   234567890  Carlos González Fernández\n",
       "3   678901234    Maria Rodríguez Sánchez\n",
       "4   345678901       Pedro Sánchez Romero\n",
       "5   456789012       Luis Fernández Gómez\n",
       "6   567890123      Elena Gómez Hernández\n",
       "7   890123456         Marta Ruiz Jiménez\n",
       "8   901234567      Daniel Moreno Vázquez\n",
       "9   210987654       Lucía Jiménez Castro\n",
       "10  320987654            Raúl Díaz Ortiz"
      ]
     },
     "execution_count": 2,
     "metadata": {},
     "output_type": "execute_result"
    }
   ],
   "source": [
    "df = pd.read_csv(r'./otros/csv para censurar.csv')#Usamos r-string para poder el símbolo /\n",
    "print(type(df))\n",
    "df.head(11)"
   ]
  },
  {
   "cell_type": "markdown",
   "metadata": {},
   "source": [
    "Ya hemos visto cómo luce nuestro data frame, pero ahora queremos realizarle la censura. Recordemos lo usado en el programa `Censura de datos`.\n",
    "Al método `.apply()` de `Pandas` programaremos la función a aplicar usando una función `lambda`."
   ]
  },
  {
   "cell_type": "code",
   "execution_count": 3,
   "metadata": {},
   "outputs": [],
   "source": [
    "df['nombre'] = df['nombre'].apply(lambda x:x[0]+''.join(['*' if i != ' ' else ' ' for i in x[1:]]))"
   ]
  },
  {
   "cell_type": "markdown",
   "metadata": {},
   "source": [
    "Veremos el resultado después de haber usado la función anónima en el método `apply`."
   ]
  },
  {
   "cell_type": "code",
   "execution_count": 4,
   "metadata": {},
   "outputs": [
    {
     "data": {
      "text/html": [
       "<div>\n",
       "<style scoped>\n",
       "    .dataframe tbody tr th:only-of-type {\n",
       "        vertical-align: middle;\n",
       "    }\n",
       "\n",
       "    .dataframe tbody tr th {\n",
       "        vertical-align: top;\n",
       "    }\n",
       "\n",
       "    .dataframe thead th {\n",
       "        text-align: right;\n",
       "    }\n",
       "</style>\n",
       "<table border=\"1\" class=\"dataframe\">\n",
       "  <thead>\n",
       "    <tr style=\"text-align: right;\">\n",
       "      <th></th>\n",
       "      <th>id</th>\n",
       "      <th>nombre</th>\n",
       "    </tr>\n",
       "  </thead>\n",
       "  <tbody>\n",
       "    <tr>\n",
       "      <th>0</th>\n",
       "      <td>123456789</td>\n",
       "      <td>J*** ***** ******</td>\n",
       "    </tr>\n",
       "    <tr>\n",
       "      <th>1</th>\n",
       "      <td>987654321</td>\n",
       "      <td>A** ******** *****</td>\n",
       "    </tr>\n",
       "    <tr>\n",
       "      <th>2</th>\n",
       "      <td>234567890</td>\n",
       "      <td>C***** ******** *********</td>\n",
       "    </tr>\n",
       "    <tr>\n",
       "      <th>3</th>\n",
       "      <td>678901234</td>\n",
       "      <td>M**** ********* *******</td>\n",
       "    </tr>\n",
       "    <tr>\n",
       "      <th>4</th>\n",
       "      <td>345678901</td>\n",
       "      <td>P**** ******* ******</td>\n",
       "    </tr>\n",
       "    <tr>\n",
       "      <th>5</th>\n",
       "      <td>456789012</td>\n",
       "      <td>L*** ********* *****</td>\n",
       "    </tr>\n",
       "    <tr>\n",
       "      <th>6</th>\n",
       "      <td>567890123</td>\n",
       "      <td>E**** ***** *********</td>\n",
       "    </tr>\n",
       "    <tr>\n",
       "      <th>7</th>\n",
       "      <td>890123456</td>\n",
       "      <td>M**** **** *******</td>\n",
       "    </tr>\n",
       "    <tr>\n",
       "      <th>8</th>\n",
       "      <td>901234567</td>\n",
       "      <td>D***** ****** *******</td>\n",
       "    </tr>\n",
       "    <tr>\n",
       "      <th>9</th>\n",
       "      <td>210987654</td>\n",
       "      <td>L**** ******* ******</td>\n",
       "    </tr>\n",
       "    <tr>\n",
       "      <th>10</th>\n",
       "      <td>320987654</td>\n",
       "      <td>R*** **** *****</td>\n",
       "    </tr>\n",
       "  </tbody>\n",
       "</table>\n",
       "</div>"
      ],
      "text/plain": [
       "           id                     nombre\n",
       "0   123456789          J*** ***** ******\n",
       "1   987654321         A** ******** *****\n",
       "2   234567890  C***** ******** *********\n",
       "3   678901234    M**** ********* *******\n",
       "4   345678901       P**** ******* ******\n",
       "5   456789012       L*** ********* *****\n",
       "6   567890123      E**** ***** *********\n",
       "7   890123456         M**** **** *******\n",
       "8   901234567      D***** ****** *******\n",
       "9   210987654       L**** ******* ******\n",
       "10  320987654            R*** **** *****"
      ]
     },
     "execution_count": 4,
     "metadata": {},
     "output_type": "execute_result"
    }
   ],
   "source": [
    "df.head(11) #head es para ver algunas observaciones (o registros) del df y no todo el data frame."
   ]
  },
  {
   "cell_type": "markdown",
   "metadata": {},
   "source": [
    "Para guardar el resultado usaremos el método `to_csv` que guardara el `data frame` en un archivo `.csv`. Tenga en cuenta que si le ponemos el mismo nombre que el archivo original se estaría reemplazando el archivo por nuestra modificación, es decir, transformaríamos el csv por el csv con censura y de esta forma se eliminaría la información original de nuestra computadora y no habría rastro de los nombres completos."
   ]
  },
  {
   "cell_type": "markdown",
   "metadata": {},
   "source": [
    "Opción A)"
   ]
  },
  {
   "cell_type": "code",
   "execution_count": 36,
   "metadata": {},
   "outputs": [],
   "source": [
    "df.to_csv('./otros/Resultado.csv', index=False) #Este código genera un csv nuevo."
   ]
  },
  {
   "cell_type": "markdown",
   "metadata": {},
   "source": [
    "Opción B)"
   ]
  },
  {
   "cell_type": "code",
   "execution_count": null,
   "metadata": {},
   "outputs": [],
   "source": [
    "df.to_csv('./otros/csv para censurar.csv', index=False) #Este reescribe el csv, censurando los datos de manera definitiva."
   ]
  }
 ],
 "metadata": {
  "kernelspec": {
   "display_name": "Python 3",
   "language": "python",
   "name": "python3"
  },
  "language_info": {
   "codemirror_mode": {
    "name": "ipython",
    "version": 3
   },
   "file_extension": ".py",
   "mimetype": "text/x-python",
   "name": "python",
   "nbconvert_exporter": "python",
   "pygments_lexer": "ipython3",
   "version": "3.12.5"
  }
 },
 "nbformat": 4,
 "nbformat_minor": 2
}
