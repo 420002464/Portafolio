{
 "cells": [
  {
   "cell_type": "markdown",
   "metadata": {},
   "source": [
    "# Convolución"
   ]
  },
  {
   "cell_type": "markdown",
   "metadata": {},
   "source": [
    "La convolución para funciones continuas se define como:\n",
    "$$(f\\star g)(t)=\\int\\limits_{-\\infty}^{\\infty}f(\\ell)g(t-\\ell)\\,d\\ell$$\n",
    "esta operación se puede usar para **sumar variables aleatorias**. Donde $f$ y $g$ corresponden a las funciones de densidad de variables aleatorias."
   ]
  },
  {
   "cell_type": "markdown",
   "metadata": {},
   "source": [
    "Para este ejemplo sumaremos 2 variables aleatorias $U(0,1)$, es decir $Z=X+Y$ donde $X,Y\\sim U(0,1)$.\n",
    "\n",
    "Importamos 2 bibliotecas importantes: `numpy` y `matplotlib`. El primero sirve para hacer cálculos numéricos de manera rápida y el segundo para graficar."
   ]
  },
  {
   "cell_type": "code",
   "execution_count": 1,
   "metadata": {},
   "outputs": [],
   "source": [
    "import numpy as np\n",
    "import matplotlib.pyplot as plt"
   ]
  },
  {
   "cell_type": "markdown",
   "metadata": {},
   "source": [
    "Implementamos un método numérico (obtenido de [este link](https://blog.espol.edu.ec/analisisnumerico/regla-del-trapecio/)) para calcular las áreas debajo de una curva."
   ]
  },
  {
   "cell_type": "code",
   "execution_count": 2,
   "metadata": {},
   "outputs": [],
   "source": [
    "def integratrapecio_fi(xi, fi):#fi son las y\n",
    "    ''' sobre muestras de fi para cada xi\n",
    "        integral con método de trapecio\n",
    "    '''\n",
    "    n = len(xi)\n",
    "    suma = 0\n",
    "    for i in range(0,n-1,1):\n",
    "        dx = xi[i+1]-xi[i]\n",
    "        untrapecio = dx*(fi[i+1]+fi[i])/2\n",
    "        suma = suma + untrapecio\n",
    "    return(suma)\n"
   ]
  },
  {
   "cell_type": "markdown",
   "metadata": {},
   "source": [
    "Definimos la función de densidad de una $U(0,1)$"
   ]
  },
  {
   "cell_type": "code",
   "execution_count": 3,
   "metadata": {},
   "outputs": [],
   "source": [
    "def unif(x):\n",
    "    if 0<=x<=1:\n",
    "        return 1\n",
    "    else:\n",
    "        return 0\n",
    "unif = np.vectorize(unif) "
   ]
  },
  {
   "cell_type": "markdown",
   "metadata": {},
   "source": [
    "Ya definidas la función de densidad, programaremos la convolución usando las funciones anteriores.\n",
    "\n",
    "Una vez obtenidos los resultados numéricos procederemos a graficar la función de densidad resultante."
   ]
  },
  {
   "cell_type": "code",
   "execution_count": 4,
   "metadata": {},
   "outputs": [
    {
     "data": {
      "image/png": "[encoded data removed]",
      "text/plain": [
       "<Figure size 640x480 with 1 Axes>"
      ]
     },
     "metadata": {},
     "output_type": "display_data"
    }
   ],
   "source": [
    "#Primero las funciones y luego la integración y graficación\n",
    "X = np.linspace(-2, 3, 500)\n",
    "\n",
    "def uno_conv(t, dom=X):\n",
    "    Y = unif(dom)*unif(t-dom) #cambiando X por dom\n",
    "    return integratrapecio_fi(dom, Y)\n",
    "\n",
    "uno_conv = np.vectorize(uno_conv) #Se vectoriza para poder aprovechar las facilidades de numpy\n",
    "\n",
    "Y = uno_conv(X)\n",
    "\n",
    "plt.plot(X, Y, color=\"lightgreen\")\n",
    "plt.show()"
   ]
  },
  {
   "cell_type": "markdown",
   "metadata": {},
   "source": [
    "Vemos que la función de densidad coincide con una función de densidad triangular, que era lo que se esperaba."
   ]
  },
  {
   "cell_type": "code",
   "execution_count": 5,
   "metadata": {},
   "outputs": [
    {
     "name": "stdout",
     "output_type": "stream",
     "text": [
      "1.0040120320801922\n"
     ]
    }
   ],
   "source": [
    "#Comprobamos que sea función de densidad\n",
    "\n",
    "print(integratrapecio_fi(X, Y))"
   ]
  },
  {
   "cell_type": "markdown",
   "metadata": {},
   "source": [
    "Por último verificamos que el área bajo la curva es muy cercano a 1, lo que indica que para este ejemplo la suma de variables aleatorias dio como resultado otra variable aleatoria."
   ]
  }
 ],
 "metadata": {
  "kernelspec": {
   "display_name": "Python 3",
   "language": "python",
   "name": "python3"
  },
  "language_info": {
   "codemirror_mode": {
    "name": "ipython",
    "version": 3
   },
   "file_extension": ".py",
   "mimetype": "text/x-python",
   "name": "python",
   "nbconvert_exporter": "python",
   "pygments_lexer": "ipython3",
   "version": "3.12.5"
  }
 },
 "nbformat": 4,
 "nbformat_minor": 2
}
