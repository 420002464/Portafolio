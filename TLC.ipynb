{
 "cells": [
  {
   "cell_type": "markdown",
   "metadata": {},
   "source": [
    "# Teorema del Límite Central"
   ]
  },
  {
   "cell_type": "markdown",
   "metadata": {},
   "source": [
    "Si tenemos $X_1,X_2,\\dots,X_n$ una muestra aleatoria, entonces $$Z:=\\sqrt{n}\\cdot\\frac{\\bar{X}-\\mu}{\\sigma}$$\n",
    "se distribuye como $$Z\\sim\\mathcal{N}(0,1)$$"
   ]
  }
 ],
 "metadata": {
  "kernelspec": {
   "display_name": "Python 3",
   "language": "python",
   "name": "python3"
  },
  "language_info": {
   "name": "python",
   "version": "3.12.5"
  }
 },
 "nbformat": 4,
 "nbformat_minor": 2
}
