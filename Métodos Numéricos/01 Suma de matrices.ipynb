{
 "cells": [
  {
   "cell_type": "markdown",
   "id": "68cd41fb",
   "metadata": {},
   "source": [
    "# Suma de Matrices\n"
   ]
  },
  {
   "cell_type": "markdown",
   "id": "3f843b26",
   "metadata": {},
   "source": [
    "La suma de matrices se define como $$C=A+B$$ donde $A,B$ y $C\\in\\mathcal{M}_{n,p}$. \n",
    "También se puede definir como $c_{ij}:=a_{ij}+b_{ij}$"
   ]
  },
  {
   "cell_type": "markdown",
   "id": "66ce5109",
   "metadata": {},
   "source": [
    "Para poder programarlo de una manera óptima usamos comprensión de listas."
   ]
  },
  {
   "cell_type": "code",
   "execution_count": 56,
   "id": "0e0e5cb2",
   "metadata": {},
   "outputs": [],
   "source": [
    "def suma(A:list, B:list) -> list:\n",
    "    C = [[A[i][j]+B[i][j] for j in range(len(A[0]))] for i in range(len(A))]\n",
    "    return C"
   ]
  },
  {
   "cell_type": "markdown",
   "id": "1bed77bd",
   "metadata": {},
   "source": [
    "Ahora veremos unos ejemplos con $\\begin{bmatrix}\n",
    "1 & 2 \\\\\n",
    "2 & 2 \n",
    "\\end{bmatrix}+\\begin{bmatrix}\n",
    "1 & 2\\\\\n",
    "2 & 2\n",
    "\\end{bmatrix}=\\begin{bmatrix}\n",
    "2 & 4\\\\\n",
    "4 & 4\n",
    "\\end{bmatrix}$"
   ]
  },
  {
   "cell_type": "code",
   "execution_count": 57,
   "id": "7c0d2a91",
   "metadata": {},
   "outputs": [
    {
     "name": "stdout",
     "output_type": "stream",
     "text": [
      "[2, 4]\n",
      "[4, 4]\n"
     ]
    }
   ],
   "source": [
    "res = suma([[1,2],[2,2]],[[1,2],[2,2]])\n",
    "print(*res, sep='\\n')"
   ]
  },
  {
   "cell_type": "markdown",
   "id": "4b4239dd",
   "metadata": {},
   "source": [
    "y $\\begin{bmatrix}\n",
    "1 & 1 & 1 \\\\\n",
    "0 & 0 & 0\n",
    "\\end{bmatrix}+\\begin{bmatrix}\n",
    "24.1 & 0 & 3.14159\\\\\n",
    "1 & 1 &1\n",
    "\\end{bmatrix}=\\begin{bmatrix}\n",
    "25.1 & 1 & 4.14159\\\\\n",
    "1 & 1 & 1\n",
    "\\end{bmatrix}$"
   ]
  },
  {
   "cell_type": "code",
   "execution_count": 58,
   "id": "f7d76731",
   "metadata": {},
   "outputs": [
    {
     "name": "stdout",
     "output_type": "stream",
     "text": [
      "[25.1, 1, 4.14159]\n",
      "[1, 1, 1]\n"
     ]
    }
   ],
   "source": [
    "res2 = suma([[1,1,1],[0,0,0]], [[24.1,0,3.14159],[1,1,1]])\n",
    "print(*res2, sep='\\n')"
   ]
  }
 ],
 "metadata": {
  "kernelspec": {
   "display_name": "Python 3",
   "language": "python",
   "name": "python3"
  },
  "language_info": {
   "codemirror_mode": {
    "name": "ipython",
    "version": 3
   },
   "file_extension": ".py",
   "mimetype": "text/x-python",
   "name": "python",
   "nbconvert_exporter": "python",
   "pygments_lexer": "ipython3",
   "version": "3.12.5"
  }
 },
 "nbformat": 4,
 "nbformat_minor": 5
}
