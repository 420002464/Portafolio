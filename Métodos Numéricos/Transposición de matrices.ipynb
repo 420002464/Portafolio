{
 "cells": [
  {
   "cell_type": "markdown",
   "id": "7d37cee8",
   "metadata": {},
   "source": [
    "# Transposición de matrices"
   ]
  },
  {
   "cell_type": "markdown",
   "id": "ecf62a61",
   "metadata": {},
   "source": [
    "Si tenemos una matrix $A\\in\\mathcal{M}_{mn}$ la matriz transpuesta es una matriz de $\\mathcal{M}_{nm}$ la cual está definida como \n",
    "$$(A')_{ij}:=A_{ji}$$"
   ]
  },
  {
   "cell_type": "markdown",
   "id": "7d743401",
   "metadata": {},
   "source": [
    "Definimos la función"
   ]
  },
  {
   "cell_type": "code",
   "execution_count": 1,
   "id": "6cad41f4",
   "metadata": {},
   "outputs": [],
   "source": [
    "def transposicion(A:list)->list:\n",
    "    At = [[A[i][j] for i in range(len(A))] for j in range(len(A[0]))]\n",
    "    return At"
   ]
  },
  {
   "cell_type": "markdown",
   "id": "61cfa35c",
   "metadata": {},
   "source": [
    "Probaremos para $\\begin{bmatrix}\n",
    "1 & 2 & 3 \\\\\n",
    "4 & 5 & 6\\end{bmatrix}'=\\begin{bmatrix}\n",
    "1 & 4 \\\\\n",
    "2 & 5 \\\\\n",
    "3&6 \\end{bmatrix}$"
   ]
  },
  {
   "cell_type": "code",
   "execution_count": 3,
   "id": "cd626c0c",
   "metadata": {},
   "outputs": [
    {
     "name": "stdout",
     "output_type": "stream",
     "text": [
      "[1, 4]\n",
      "[2, 5]\n",
      "[3, 6]\n"
     ]
    }
   ],
   "source": [
    "res = transposicion([[1,2,3], [4,5,6]])\n",
    "print(*res, sep='\\n')"
   ]
  },
  {
   "cell_type": "markdown",
   "id": "29658e8b",
   "metadata": {},
   "source": [
    "y $\\begin{bmatrix}\n",
    "0 & 1 \\\\\n",
    "0 & 1 \\end{bmatrix}'=\\begin{bmatrix}\n",
    "0 & 0 \\\\\n",
    "1 & 1 \\end{bmatrix}$"
   ]
  },
  {
   "cell_type": "code",
   "execution_count": 8,
   "id": "16102e41",
   "metadata": {},
   "outputs": [
    {
     "name": "stdout",
     "output_type": "stream",
     "text": [
      "[0, 0]\n",
      "[1, 1]\n"
     ]
    }
   ],
   "source": [
    "res2 = transposicion([[0,1],[0,1]])\n",
    "print(*res2, sep='\\n')"
   ]
  },
  {
   "cell_type": "markdown",
   "id": "672442e1",
   "metadata": {},
   "source": [
    "<!-- Definimos la función -->"
   ]
  }
 ],
 "metadata": {
  "kernelspec": {
   "display_name": "Python 3",
   "language": "python",
   "name": "python3"
  },
  "language_info": {
   "codemirror_mode": {
    "name": "ipython",
    "version": 3
   },
   "file_extension": ".py",
   "mimetype": "text/x-python",
   "name": "python",
   "nbconvert_exporter": "python",
   "pygments_lexer": "ipython3",
   "version": "3.12.5"
  }
 },
 "nbformat": 4,
 "nbformat_minor": 5
}
