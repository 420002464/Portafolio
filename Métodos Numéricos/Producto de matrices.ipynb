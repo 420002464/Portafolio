{
 "cells": [
  {
   "cell_type": "markdown",
   "id": "1d9326fb",
   "metadata": {},
   "source": [
    "# Producto de Matrices"
   ]
  },
  {
   "cell_type": "markdown",
   "id": "ae82eb13",
   "metadata": {},
   "source": [
    "Si tenemos una matriz $A\\in\\mathcal{M}_{mn}$ y otra $B\\in\\mathcal{M}_{np}$, el producto de matrices de $C$ va a ser $C\\in\\mathcal{M}_{mp}$.\n",
    "$C=AB$ está definido por \n",
    "$$c_{ij}:=\\sum_{l=1}^{n}a_{il}b_{lj}$$"
   ]
  },
  {
   "cell_type": "markdown",
   "id": "b5fc0a8e",
   "metadata": {},
   "source": [
    "Procederemos a definir el producto usando nuevamente listas por comprensión."
   ]
  },
  {
   "cell_type": "code",
   "execution_count": 12,
   "id": "1b68cf16",
   "metadata": {},
   "outputs": [],
   "source": [
    "def producto(A:list, B:list) -> list:\n",
    "    C = [[sum([A[i][l]*B[l][j] for l in range(len(B))]) for j in range(len(B))] for i in range(len(A))]\n",
    "    return C"
   ]
  },
  {
   "cell_type": "markdown",
   "id": "e4d7a43e",
   "metadata": {},
   "source": [
    "Ahora veremos unos ejemplos con $\\begin{bmatrix}\n",
    "1 & 0 \\\\\n",
    "0 & 1 \n",
    "\\end{bmatrix}\\begin{bmatrix}\n",
    "1 & 0\\\\\n",
    "0 & 1\n",
    "\\end{bmatrix}=\\begin{bmatrix}\n",
    "1 & 0\\\\\n",
    "0 & 1\n",
    "\\end{bmatrix}$"
   ]
  },
  {
   "cell_type": "code",
   "execution_count": 14,
   "id": "33db13f1",
   "metadata": {},
   "outputs": [
    {
     "name": "stdout",
     "output_type": "stream",
     "text": [
      "[1, 0]\n",
      "[0, 1]\n"
     ]
    }
   ],
   "source": [
    "r1 = producto([[1,0],[0,1]],[[1,0],[0,1]])\n",
    "print(*r1, sep='\\n')"
   ]
  },
  {
   "cell_type": "markdown",
   "id": "7d55e02e",
   "metadata": {},
   "source": [
    "y $\\begin{bmatrix}\n",
    "1 & 0 & 1 \\\\\n",
    "2 & 1 & 1 \\\\\n",
    "0 & 1 & 1 \\\\   \n",
    "1 & 1 & 2 \n",
    "\\end{bmatrix}\\begin{bmatrix} 1 & 2 & 1 \\\\   2 & 3 & 1 \\\\   4 & 2 & 2 \\\\   \\end{bmatrix}=\\begin{bmatrix} 5 & 4 & 3 \\\\   8 & 9 & 5 \\\\\\   6 & 5 & 3 \\\\   11 & 9 & 6 \\\\   \\end{bmatrix}$"
   ]
  },
  {
   "cell_type": "code",
   "execution_count": 23,
   "id": "1503ef7f",
   "metadata": {},
   "outputs": [
    {
     "name": "stdout",
     "output_type": "stream",
     "text": [
      "[5, 4, 3]\n",
      "[8, 9, 5]\n",
      "[6, 5, 3]\n",
      "[11, 9, 6]\n"
     ]
    }
   ],
   "source": [
    "A = [[1,0,1], [2,1,1], [0,1,1], [1,1,2]]\n",
    "B = [[1,2,1], [2,3,1], [4,2,2]]\n",
    "r2 = producto(A, B)\n",
    "print(*r2, sep='\\n')"
   ]
  }
 ],
 "metadata": {
  "kernelspec": {
   "display_name": "Python 3",
   "language": "python",
   "name": "python3"
  },
  "language_info": {
   "codemirror_mode": {
    "name": "ipython",
    "version": 3
   },
   "file_extension": ".py",
   "mimetype": "text/x-python",
   "name": "python",
   "nbconvert_exporter": "python",
   "pygments_lexer": "ipython3",
   "version": "3.12.5"
  }
 },
 "nbformat": 4,
 "nbformat_minor": 5
}
